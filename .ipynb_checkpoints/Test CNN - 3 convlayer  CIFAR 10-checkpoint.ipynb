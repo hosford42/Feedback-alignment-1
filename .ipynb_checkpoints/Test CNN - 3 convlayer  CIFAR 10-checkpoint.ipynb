{
 "cells": [
  {
   "cell_type": "code",
   "execution_count": 1,
   "metadata": {},
   "outputs": [
    {
     "name": "stderr",
     "output_type": "stream",
     "text": [
      "/opt/anaconda/miniconda2/envs/py34/lib/python3.6/site-packages/h5py/__init__.py:34: FutureWarning: Conversion of the second argument of issubdtype from `float` to `np.floating` is deprecated. In future, it will be treated as `np.float64 == np.dtype(float).type`.\n",
      "  from ._conv import register_converters as _register_converters\n"
     ]
    }
   ],
   "source": [
    "import os\n",
    "os.environ[\"CUDA_VISIBLE_DEVICES\"]=\"0\"\n",
    "import tensorflow as tf \n",
    "import numpy as np \n",
    "import pickle\n",
    "import numpy.random as rng\n",
    "import matplotlib.pyplot as plt\n",
    "from scipy.signal import lfilter"
   ]
  },
  {
   "cell_type": "markdown",
   "metadata": {},
   "source": [
    "# Load Training Data "
   ]
  },
  {
   "cell_type": "code",
   "execution_count": 2,
   "metadata": {
    "collapsed": true
   },
   "outputs": [],
   "source": [
    "def load_data(file_no):\n",
    "    path='/home/prashanth/cifar-10-batches-py/data_batch_'+str(file_no)\n",
    "    fo=open(path,'rb')\n",
    "    dict=pickle.load(fo,encoding='bytes')\n",
    "    X=dict[b'data']\n",
    "    Y=dict[b'labels']\n",
    "    fo.close\n",
    "    X=X.reshape((len(X),3,32,32)).transpose(0,2,3,1).astype(\"uint8\")\n",
    "    Y=np.array(Y)\n",
    "    Y_hot=np.eye(no_of_classes)[Y]\n",
    "    return X,Y_hot"
   ]
  },
  {
   "cell_type": "markdown",
   "metadata": {},
   "source": [
    "# Load Testing Data"
   ]
  },
  {
   "cell_type": "code",
   "execution_count": 3,
   "metadata": {},
   "outputs": [],
   "source": [
    "fo_tst=open('/home/prashanth/cifar-10-batches-py/test_batch','rb')\n",
    "dict=pickle.load(fo_tst,encoding='bytes')\n",
    "X_tst=dict[b'data']\n",
    "Y_tst=dict[b'labels']\n",
    "fo_tst.close\n",
    "X_tst=X_tst.reshape((len(X_tst),3,32,32)).transpose(0,2,3,1).astype(\"uint8\")\n",
    "Y_tst=np.array(Y_tst)"
   ]
  },
  {
   "cell_type": "code",
   "execution_count": 4,
   "metadata": {},
   "outputs": [
    {
     "data": {
      "text/plain": [
       "(10000, 32, 32, 3)"
      ]
     },
     "execution_count": 4,
     "metadata": {},
     "output_type": "execute_result"
    }
   ],
   "source": [
    "X_tst.shape"
   ]
  },
  {
   "cell_type": "code",
   "execution_count": 5,
   "metadata": {
    "collapsed": true
   },
   "outputs": [],
   "source": [
    "def forward_conv(height,width,inshape,outshape,input):\n",
    "    weights=tf.Variable(rng.randn(height,width,inshape,outshape), dtype = tf.float32,name='conv_weights') #constant\n",
    "    return(tf.nn.conv2d(input,weights,strides=[1,1,1,1],padding=\"SAME\"))\n",
    "\n",
    "def forward_max_pooling_layer(inp,window_size):\n",
    "    return(tf.nn.max_pool(value=inp,ksize=[1,window_size,window_size,1],strides=[1,1,1,1],padding=\"SAME\"))\n",
    "\n",
    "def forward_avg_pooling_layer(inp,window_size):\n",
    "    return(tf.nn.avg_pool(value=inp,ksize=[1,window_size,window_size,1],strides=[1,1,1,1],padding=\"SAME\"))\n",
    "\n",
    "def flatten_forward(layer):\n",
    "    inp_list=layer.get_shape().as_list()\n",
    "    new_size = inp_list[-1] * inp_list[-2] * inp_list[-3]\n",
    "    return tf.reshape(layer,[-1,new_size]),new_size\n",
    "\n",
    "def fc_forward(layer,new_size,no_of_classes):\n",
    "    weights=tf.Variable(rng.randn(new_size,no_of_classes),dtype=tf.float32,name='fc_forward_weights') #constant\n",
    "    return tf.matmul(layer,weights)\n",
    "\n",
    "def fc_fc(rows,columns,layers):\n",
    "    weights=tf.Variable(rng.randn(rows,columns),dtype=tf.float32,name='fc_fc_weights')\n",
    "    return tf.matmul(layers,weights)\n",
    "\n",
    "def activation(layer):\n",
    "    return tf.nn.relu(layer)"
   ]
  },
  {
   "cell_type": "code",
   "execution_count": 6,
   "metadata": {
    "collapsed": true
   },
   "outputs": [],
   "source": [
    "@tf.RegisterGradient(\"CustomConv\")\n",
    "def _conv2d(op,grad):\n",
    "    print(\"in override backprop\")\n",
    "    input = op.inputs[0]\n",
    "    filter = op.inputs[1]\n",
    "    in_shape = tf.shape(input)\n",
    "    f_shape = tf.shape(filter)\n",
    "    g_input = tf.nn.conv2d_backprop_input(input_sizes = in_shape, filter = filter, out_backprop = grad, strides = [1,1,1,1], padding = \"SAME\")\n",
    "    g_filter = tf.nn.conv2d_backprop_filter(input, filter_sizes = f_shape, out_backprop = grad, strides = [1,1,1,1], padding = \"SAME\")\n",
    "    return g_input, g_filter"
   ]
  },
  {
   "cell_type": "code",
   "execution_count": 7,
   "metadata": {
    "collapsed": true
   },
   "outputs": [],
   "source": [
    "#PARAMETERS\n",
    "num_epochs=3\n",
    "batch=1000\n",
    "iterations=1000\n",
    "no_of_classes=10\n",
    "\n",
    "Y_hot_tst=np.eye(no_of_classes)[Y_tst]\n",
    "\n",
    "\n",
    "images=tf.placeholder(tf.float32,shape=(None,32,32,3),name='images')\n",
    "true_labels=tf.placeholder(tf.float32,shape=(None,10),name='true_labels')"
   ]
  },
  {
   "cell_type": "markdown",
   "metadata": {},
   "source": [
    "# Random FeedBack"
   ]
  },
  {
   "cell_type": "code",
   "execution_count": 8,
   "metadata": {},
   "outputs": [],
   "source": [
    "#LAYER1\n",
    "filter_random1 = tf.Variable(rng.randn(5,5,3,32), dtype = tf.float32,name='random_filter1')\n",
    "\n",
    "g=tf.get_default_graph()\n",
    "with g.gradient_override_map({\"Conv2D\": \"CustomConv\"}):\n",
    "    net_conv=tf.nn.conv2d(images,filter_random1,strides=[1,1,1,1],padding=\"SAME\")\n",
    "\n",
    "net_pool= forward_max_pooling_layer(net_conv,3)\n",
    "net_act=activation(net_pool)\n",
    "\n",
    "#LAYER 2\n",
    "filter_random2 = tf.Variable(rng.randn(5,5,32,64), dtype = tf.float32,name='random_filter2')\n",
    "with g.gradient_override_map({\"Conv2D\":\"CustomConv\"}):\n",
    "    net_conv2=tf.nn.conv2d(net_act,filter_random2,strides=[1,1,1,1],padding=\"SAME\")\n",
    "net_pool2= forward_avg_pooling_layer(net_conv2,3)\n",
    "net_act2=activation(net_pool2)\n",
    "\n",
    "\n",
    "#LAYER 3\n",
    "filter_random3=tf.Variable(rng.randn(5,5,64,64),dtype=tf.float32,name='random_filter3')\n",
    "with g.gradient_override_map({\"Conv2D\":\"CustomConv\"}):\n",
    "    net_conv3=tf.nn.conv2d(net_act2,filter_random3,strides=[1,1,1,1],padding=\"SAME\")\n",
    "net_pool3=forward_avg_pooling_layer(net_conv3,3)\n",
    "\n",
    "net_act3=activation(net_pool3)\n",
    "\n",
    "net_flatten,new_size=flatten_forward(net_act3)\n",
    "\n",
    "net_fc=fc_forward(net_flatten,new_size,128)\n",
    "net_act4=activation(net_fc)\n",
    "output=fc_fc(128,no_of_classes,net_act4)\n",
    "\n",
    "#compute loss\n",
    "\n",
    "cross_entropy=tf.nn.softmax_cross_entropy_with_logits(logits=\n",
    "                                  output,labels=true_labels)\n",
    "cost = tf.reduce_mean(cross_entropy)"
   ]
  },
  {
   "cell_type": "markdown",
   "metadata": {},
   "source": [
    "# Back Prop"
   ]
  },
  {
   "cell_type": "code",
   "execution_count": 9,
   "metadata": {
    "collapsed": true
   },
   "outputs": [],
   "source": [
    "# filter_conv_bp=tf.Variable(rng.randn(5,5,3,16), dtype = tf.float32)\n",
    "\n",
    "#LAYER 1\n",
    "net_conv_bp= forward_conv(5,5,3,32,images) # height,width,inshape,outshape\n",
    "net_pool_bp = forward_max_pooling_layer(net_conv_bp,3) #output,windowsize\n",
    "net_act_bp=activation(net_pool_bp)\n",
    "\n",
    "#LAYER 2\n",
    "net_conv_bp2 = forward_conv(5,5,32,64,net_act_bp) # height,width,inshape,outshape\n",
    "net_pool_bp2 = forward_avg_pooling_layer(net_conv_bp2,3) #output,windowsize\n",
    "net_act_bp2=activation(net_pool_bp2)\n",
    "\n",
    "#LAYER 3\n",
    "net_conv_bp3=forward_conv(5,5,64,64,net_act_bp2)\n",
    "net_pool_bp3=forward_avg_pooling_layer(net_conv_bp3,3)\n",
    "net_act_bp3=activation(net_pool_bp3)\n",
    "\n",
    "net_flatten_bp,new_size_bp=flatten_forward(net_act_bp3)\n",
    "net_fc_bp1=fc_forward(net_flatten_bp,new_size_bp,128)\n",
    "net_act_bp4=activation(net_fc_bp1)\n",
    "output_bp=fc_fc(128,no_of_classes,net_act_bp4)\n",
    "\n",
    "\n",
    "#cross_entropy_bp=tf.nn.softmax_cross_entropy_with_logits_v2(logits=\n",
    "#                                  output_bp,labels=true_labels)\n",
    "cross_entropy_bp=tf.nn.softmax_cross_entropy_with_logits(logits=\n",
    "                                  output_bp,labels=true_labels)\n",
    "cost_bp=tf.reduce_mean(cross_entropy_bp)"
   ]
  },
  {
   "cell_type": "code",
   "execution_count": 10,
   "metadata": {
    "collapsed": true
   },
   "outputs": [],
   "source": [
    "accuracy_fa=tf.reduce_mean(tf.cast(tf.equal(tf.argmax(output,1),tf.argmax(true_labels,1)),tf.float32))\n",
    "accuracy_bp=tf.reduce_mean(tf.cast(tf.equal(tf.argmax(output_bp,1),tf.argmax(true_labels,1)),tf.float32))"
   ]
  },
  {
   "cell_type": "code",
   "execution_count": 11,
   "metadata": {},
   "outputs": [
    {
     "name": "stdout",
     "output_type": "stream",
     "text": [
      "in override backprop\n",
      "in override backprop\n",
      "in override backprop\n"
     ]
    }
   ],
   "source": [
    "#BP gradients\n",
    "bp_grad = tf.gradients(cross_entropy_bp, images)\n",
    "\n",
    "override_grad = tf.gradients(cross_entropy, images)"
   ]
  },
  {
   "cell_type": "code",
   "execution_count": null,
   "metadata": {},
   "outputs": [
    {
     "name": "stdout",
     "output_type": "stream",
     "text": [
      "in override backprop\n",
      "in override backprop\n",
      "in override backprop\n"
     ]
    }
   ],
   "source": [
    "train_op_bp = tf.train.AdamOptimizer(learning_rate=0.0000001).minimize(cost_bp)\n",
    "train_op_fa=tf.train.AdamOptimizer(learning_rate=0.0000001).minimize(cost)"
   ]
  },
  {
   "cell_type": "code",
   "execution_count": null,
   "metadata": {
    "scrolled": true
   },
   "outputs": [
    {
     "name": "stdout",
     "output_type": "stream",
     "text": [
      "PARAMETERS:\n",
      "\n",
      "No of epochs= 3\n",
      "\n",
      "Batch size= 1000\n",
      "\n",
      "Iterations per epoch= 1000\n",
      "\n",
      "\t\t\tEPOCH NO: 1\n",
      "Picking from data batch: 2\n"
     ]
    }
   ],
   "source": [
    "store_err_bp=[]\n",
    "store_err_fa=[]\n",
    "acc_fa=[]\n",
    "acc_bp=[]\n",
    "testing_fa=[]\n",
    "testing_bp=[]\n",
    "\n",
    "print(\"PARAMETERS:\")\n",
    "print(\"\\nNo of epochs=\",num_epochs)\n",
    "print(\"\\nBatch size=\",batch)\n",
    "print(\"\\nIterations per epoch=\",iterations)\n",
    "\n",
    "with tf.Session() as sess:\n",
    "    sess.run(tf.global_variables_initializer())\n",
    "    for epoch in range(num_epochs):\n",
    "        print(\"\\n\\t\\t\\tEPOCH NO:\",epoch+1)\n",
    "        no=np.random.randint(1,5)\n",
    "        X,Y_hot=load_data(no)\n",
    "        print(\"Picking from data batch:\",no)\n",
    "        batch_no=np.random.randint(0,X.shape[0],size=batch)\n",
    "        \n",
    "        for count in range(iterations):\n",
    "            inp_features=X[batch_no,:,:,:]\n",
    "            inp_features=inp_features.astype(np.float32)\n",
    "\n",
    "            inp_labels=Y_hot[batch_no,:]\n",
    "            inp_labels=inp_labels.astype(np.float32)\n",
    "\n",
    "#             autobp_input=sess.run(bp_grad,feed_dict={images:inp_features,true_labels:inp_labels})\n",
    "#             override_input=sess.run(override_grad,feed_dict={images:inp_features,true_labels:inp_labels})\n",
    "\n",
    "            sess.run(train_op_bp,feed_dict={images:inp_features,true_labels:inp_labels})\n",
    "            sess.run(train_op_fa,feed_dict={images:inp_features,true_labels:inp_labels})\n",
    "\n",
    "            entropy_bp=sess.run(cross_entropy_bp,feed_dict={images:inp_features,true_labels:inp_labels})\n",
    "            store_err_bp.append(np.mean(entropy_bp))\n",
    "            entropy_fa=sess.run(cross_entropy,feed_dict={images:inp_features,true_labels:inp_labels})\n",
    "            store_err_fa.append(np.mean(entropy_fa))\n",
    "\n",
    "            acc_fa.append(sess.run(accuracy_fa,feed_dict={images:inp_features,true_labels:inp_labels}))\n",
    "            acc_bp.append(sess.run(accuracy_bp,feed_dict={images:inp_features,true_labels:inp_labels}))\n",
    "\n",
    "\n",
    "            if (count+1)%200==0:\n",
    "                print(\"Iteration:\",count+1)\n",
    "                print(\"BackPropagation:\",sess.run(cost_bp,feed_dict={images:inp_features,true_labels:inp_labels}),\n",
    "                      \"\\t Feedback:\",sess.run(cost,feed_dict={images:inp_features,true_labels:inp_labels}))\n",
    "                \n",
    "                \n",
    "        #Resource Exhausted with loading the entire testing data which has 10000 images.\n",
    "        #Instead testing on 1000 random images selected from the testing data. results may not be as consistent\n",
    "        \n",
    "        pick_rnd=np.random.randint(0,X_tst.shape[0],1000)\n",
    "        tst_fa=sess.run(accuracy_fa,feed_dict={images:X_tst[pick_rnd,:,:,:].astype(np.float32),\n",
    "                                               true_labels:Y_hot_tst[pick_rnd,:]})\n",
    "        tst_bp=sess.run(accuracy_bp,feed_dict={images:X_tst[pick_rnd,:,:,:].astype(np.float32),\n",
    "                                               true_labels:Y_hot_tst[pick_rnd,:]})\n",
    "\n",
    "        testing_fa.append(tst_fa)\n",
    "        testing_bp.append(tst_bp)\n",
    "        \n",
    "        print(\"\\nAt the end of EPOCH:\",epoch+1)\n",
    "        print(\"Testing Accuracy:\\nBack Propagation\",tst_bp,\"\\tRandom Feedback:\",tst_fa)"
   ]
  },
  {
   "cell_type": "code",
   "execution_count": null,
   "metadata": {
    "collapsed": true
   },
   "outputs": [],
   "source": [
    "with open('Analysis-CIFAR10.pkl','wb') as f:\n",
    "    pickle.dump([store_err_bp,store_err_fa,acc_fa,acc_bp,testing_fa,testing_bp],f,protocol=2)"
   ]
  },
  {
   "cell_type": "code",
   "execution_count": null,
   "metadata": {
    "collapsed": true
   },
   "outputs": [],
   "source": []
  }
 ],
 "metadata": {
  "kernelspec": {
   "display_name": "Python [conda env:py34]",
   "language": "python",
   "name": "conda-env-py34-py"
  },
  "language_info": {
   "codemirror_mode": {
    "name": "ipython",
    "version": 3
   },
   "file_extension": ".py",
   "mimetype": "text/x-python",
   "name": "python",
   "nbconvert_exporter": "python",
   "pygments_lexer": "ipython3",
   "version": "3.6.1"
  }
 },
 "nbformat": 4,
 "nbformat_minor": 2
}
