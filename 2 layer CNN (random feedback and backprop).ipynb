{
 "cells": [
  {
   "cell_type": "code",
   "execution_count": 1,
   "metadata": {},
   "outputs": [
    {
     "name": "stderr",
     "output_type": "stream",
     "text": [
      "/opt/anaconda/miniconda2/envs/py34/lib/python3.6/site-packages/h5py/__init__.py:34: FutureWarning: Conversion of the second argument of issubdtype from `float` to `np.floating` is deprecated. In future, it will be treated as `np.float64 == np.dtype(float).type`.\n",
      "  from ._conv import register_converters as _register_converters\n"
     ]
    }
   ],
   "source": [
    "import os\n",
    "os.environ[\"CUDA_VISIBLE_DEVICES\"]=\"0\"\n",
    "import tensorflow as tf \n",
    "import numpy as np \n",
    "import pickle\n",
    "import numpy.random as rng\n",
    "import matplotlib.pyplot as plt\n",
    "from scipy.signal import lfilter"
   ]
  },
  {
   "cell_type": "code",
   "execution_count": 2,
   "metadata": {
    "collapsed": true
   },
   "outputs": [],
   "source": [
    "fo=open('/home/prashanth/cifar-10-batches-py/data_batch_1','rb')\n",
    "dict=pickle.load(fo,encoding='bytes')\n",
    "X=dict[b'data']\n",
    "Y=dict[b'labels']\n",
    "fo.close\n",
    "X=X.reshape((len(X),3,32,32)).transpose(0,2,3,1).astype(\"uint8\")\n",
    "Y=np.array(Y)\n"
   ]
  },
  {
   "cell_type": "code",
   "execution_count": 3,
   "metadata": {
    "collapsed": true
   },
   "outputs": [],
   "source": [
    "def forward_conv(height,width,inshape,outshape,input):\n",
    "    weights=tf.Variable(rng.randn(height,width,inshape,outshape), dtype = tf.float32,name='conv_weights') #constant\n",
    "    return(tf.nn.conv2d(input,weights,strides=[1,1,1,1],padding=\"SAME\"))\n",
    "\n",
    "def forward_pooling_layer(inp,window_size):\n",
    "    return(tf.nn.max_pool(value=inp,ksize=[1,window_size,window_size,1],strides=[1,1,1,1],padding=\"SAME\"))\n",
    "\n",
    "def flatten_forward(layer):\n",
    "    inp_list=layer.get_shape().as_list()\n",
    "    new_size = inp_list[-1] * inp_list[-2] * inp_list[-3]\n",
    "    return tf.reshape(layer,[-1,new_size]),new_size\n",
    "\n",
    "def fc_forward(layer,new_size,no_of_classes):\n",
    "    weights=tf.Variable(rng.randn(new_size,no_of_classes),dtype=tf.float32,name='fc_forward_weights') #constant\n",
    "    return tf.matmul(layer,weights)\n",
    "\n",
    "def fc_fc(rows,columns,layers):\n",
    "    weights=tf.Variable(rng.randn(rows,columns),dtype=tf.float32,name='fc_fc_weights')\n",
    "    return tf.matmul(layers,weights)\n",
    "\n",
    "def activation(layer):\n",
    "    return tf.nn.relu(layer)"
   ]
  },
  {
   "cell_type": "code",
   "execution_count": 4,
   "metadata": {
    "collapsed": true
   },
   "outputs": [],
   "source": [
    "@tf.RegisterGradient(\"CustomConv\")\n",
    "def _conv2d(op,grad):\n",
    "    print(\"in override backprop\")\n",
    "    input = op.inputs[0]\n",
    "    filter = op.inputs[1]\n",
    "    in_shape = tf.shape(input)\n",
    "    f_shape = tf.shape(filter)\n",
    "    g_input = tf.nn.conv2d_backprop_input(input_sizes = in_shape, filter = filter, out_backprop = grad, strides = [1,1,1,1], padding = \"SAME\")\n",
    "    g_filter = tf.nn.conv2d_backprop_filter(input, filter_sizes = f_shape, out_backprop = grad, strides = [1,1,1,1], padding = \"SAME\")\n",
    "    return g_input, g_filter"
   ]
  },
  {
   "cell_type": "code",
   "execution_count": 5,
   "metadata": {
    "collapsed": true
   },
   "outputs": [],
   "source": [
    "#PARAMETERS\n",
    "batch=100\n",
    "iterations=10000\n",
    "no_of_classes=10"
   ]
  },
  {
   "cell_type": "markdown",
   "metadata": {},
   "source": [
    "# Random FeedBack"
   ]
  },
  {
   "cell_type": "code",
   "execution_count": 18,
   "metadata": {
    "collapsed": true
   },
   "outputs": [],
   "source": [
    "images=tf.placeholder(tf.float32,shape=(batch,32,32,3),name='images')\n",
    "true_labels=tf.placeholder(tf.float32,shape=(batch,10),name='true_labels')\n",
    "\n",
    "#net_conv=forward_conv(filter_conv,images)\n",
    "\n",
    "#LAYER1\n",
    "filter_random1 = tf.Variable(rng.randn(5,5,3,20), dtype = tf.float32,name='random_filter1')\n",
    "\n",
    "g=tf.get_default_graph()\n",
    "with g.gradient_override_map({\"Conv2D\": \"CustomConv\"}):\n",
    "    net_conv=tf.nn.conv2d(images,filter_random1,strides=[1,1,1,1],padding=\"SAME\")\n",
    "\n",
    "net_pool= forward_pooling_layer(net_conv,2)\n",
    "net_act=activation(net_pool)\n",
    "\n",
    "#LAYER 2\n",
    "filter_random2 = tf.Variable(rng.randn(5,5,20,50), dtype = tf.float32,name='random_filter2')\n",
    "with g.gradient_override_map({\"Conv2D\":\"CustomConv\"}):\n",
    "    net_conv2=tf.nn.conv2d(net_act,filter_random2,strides=[1,1,1,1],padding=\"SAME\")\n",
    "net_pool2= forward_pooling_layer(net_conv2,2)\n",
    "net_act2=activation(net_pool2)\n",
    "    \n",
    "net_flatten,new_size=flatten_forward(net_act2)\n",
    "\n",
    "net_fc=fc_forward(net_flatten,new_size,500)\n",
    "net_act3=activation(net_fc)\n",
    "output=fc_fc(500,no_of_classes,net_act3)\n",
    "\n",
    "#compute loss\n",
    "\n",
    "cross_entropy=tf.nn.softmax_cross_entropy_with_logits(logits=\n",
    "                                  output,labels=true_labels)\n",
    "cost = tf.reduce_mean(cross_entropy)\n"
   ]
  },
  {
   "cell_type": "markdown",
   "metadata": {},
   "source": [
    "# Back Prop"
   ]
  },
  {
   "cell_type": "code",
   "execution_count": 19,
   "metadata": {
    "collapsed": true
   },
   "outputs": [],
   "source": [
    "# filter_conv_bp=tf.Variable(rng.randn(5,5,3,16), dtype = tf.float32)\n",
    "\n",
    "#LAYER 1\n",
    "net_conv_bp= forward_conv(5,5,3,20,images) # height,width,inshape,outshape\n",
    "net_pool_bp = forward_pooling_layer(net_conv_bp,2) #output,windowsize\n",
    "net_act_bp=activation(net_pool_bp)\n",
    "\n",
    "#LAYER2\n",
    "net_conv_bp2 = forward_conv(5,5,20,50,net_act_bp) # height,width,inshape,outshape\n",
    "net_pool_bp2 = forward_pooling_layer(net_conv_bp2,2) #output,windowsize\n",
    "net_act_bp2=activation(net_pool_bp2)\n",
    "\n",
    "net_flatten_bp,new_size_bp=flatten_forward(net_act_bp2)\n",
    "net_fc_bp1=fc_forward(net_flatten_bp,new_size_bp,500)\n",
    "net_act_bp3=activation(net_fc_bp1)\n",
    "output_bp=fc_fc(500,no_of_classes,net_act_bp3)\n",
    "\n",
    "\n",
    "#cross_entropy_bp=tf.nn.softmax_cross_entropy_with_logits_v2(logits=\n",
    "#                                  output_bp,labels=true_labels)\n",
    "cross_entropy_bp=tf.nn.softmax_cross_entropy_with_logits(logits=\n",
    "                                  output_bp,labels=true_labels)\n",
    "cost_bp=tf.reduce_mean(cross_entropy_bp)"
   ]
  },
  {
   "cell_type": "code",
   "execution_count": 20,
   "metadata": {
    "collapsed": true
   },
   "outputs": [],
   "source": [
    "accuracy_fa=tf.reduce_mean(tf.cast(tf.equal(tf.argmax(output,1),tf.argmax(true_labels,1)),tf.float32))\n",
    "accuracy_bp=tf.reduce_mean(tf.cast(tf.equal(tf.argmax(output_bp,1),tf.argmax(true_labels,1)),tf.float32))"
   ]
  },
  {
   "cell_type": "code",
   "execution_count": 21,
   "metadata": {},
   "outputs": [
    {
     "name": "stdout",
     "output_type": "stream",
     "text": [
      "in override backprop\n",
      "in override backprop\n"
     ]
    }
   ],
   "source": [
    "#BP gradients\n",
    "bp_grad = tf.gradients(cross_entropy_bp, images)\n",
    "\n",
    "override_grad = tf.gradients(cross_entropy, images)"
   ]
  },
  {
   "cell_type": "code",
   "execution_count": 22,
   "metadata": {},
   "outputs": [
    {
     "name": "stdout",
     "output_type": "stream",
     "text": [
      "in override backprop\n",
      "in override backprop\n"
     ]
    }
   ],
   "source": [
    "train_op_bp = tf.train.MomentumOptimizer(learning_rate=0.00000001,momentum=0.9).minimize(cost_bp)\n",
    "train_op_fa=tf.train.MomentumOptimizer(learning_rate=0.00000001,momentum=0.9).minimize(cost)"
   ]
  },
  {
   "cell_type": "code",
   "execution_count": 23,
   "metadata": {
    "scrolled": true
   },
   "outputs": [
    {
     "name": "stdout",
     "output_type": "stream",
     "text": [
      "Iteration: 0\n",
      "BackPropagation: 42784924.0 \n",
      "Feedback: 48618988.0\n",
      "Iteration: 100\n",
      "BackPropagation: 967739.7 \n",
      "Feedback: 207804.4\n",
      "Iteration: 200\n",
      "BackPropagation: 420626.97 \n",
      "Feedback: 115527.75\n",
      "Iteration: 300\n",
      "BackPropagation: 292225.9 \n",
      "Feedback: 48873.63\n",
      "Iteration: 400\n",
      "BackPropagation: 238216.8 \n",
      "Feedback: 60056.73\n",
      "Iteration: 500\n",
      "BackPropagation: 177187.84 \n",
      "Feedback: 34779.99\n",
      "Iteration: 600\n",
      "BackPropagation: 165180.98 \n",
      "Feedback: 83301.42\n",
      "Iteration: 700\n",
      "BackPropagation: 121134.04 \n",
      "Feedback: 17853.963\n",
      "Iteration: 800\n",
      "BackPropagation: 87323.24 \n",
      "Feedback: 9114.613\n",
      "Iteration: 900\n",
      "BackPropagation: 74381.84 \n",
      "Feedback: 21196.445\n",
      "Iteration: 1000\n",
      "BackPropagation: 82955.04 \n",
      "Feedback: 24814.768\n",
      "Iteration: 1100\n",
      "BackPropagation: 61373.48 \n",
      "Feedback: 37718.484\n",
      "Iteration: 1200\n",
      "BackPropagation: 32745.965 \n",
      "Feedback: 19384.885\n",
      "Iteration: 1300\n",
      "BackPropagation: 44822.266 \n",
      "Feedback: 23556.203\n",
      "Iteration: 1400\n",
      "BackPropagation: 38607.234 \n",
      "Feedback: 12525.487\n",
      "Iteration: 1500\n",
      "BackPropagation: 21699.932 \n",
      "Feedback: 5240.0293\n",
      "Iteration: 1600\n",
      "BackPropagation: 23710.195 \n",
      "Feedback: 15291.446\n",
      "Iteration: 1700\n",
      "BackPropagation: 14654.466 \n",
      "Feedback: 8453.626\n",
      "Iteration: 1800\n",
      "BackPropagation: 13961.104 \n",
      "Feedback: 6265.68\n",
      "Iteration: 1900\n",
      "BackPropagation: 12951.843 \n",
      "Feedback: 3423.462\n",
      "Iteration: 2000\n",
      "BackPropagation: 20641.275 \n",
      "Feedback: 10939.865\n",
      "Iteration: 2100\n",
      "BackPropagation: 16585.229 \n",
      "Feedback: 9814.984\n",
      "Iteration: 2200\n",
      "BackPropagation: 22446.428 \n",
      "Feedback: 19278.447\n",
      "Iteration: 2300\n",
      "BackPropagation: 9130.579 \n",
      "Feedback: 5975.19\n",
      "Iteration: 2400\n",
      "BackPropagation: 15372.535 \n",
      "Feedback: 16385.803\n",
      "Iteration: 2500\n",
      "BackPropagation: 14033.423 \n",
      "Feedback: 14667.17\n",
      "Iteration: 2600\n",
      "BackPropagation: 11182.269 \n",
      "Feedback: 7576.5684\n",
      "Iteration: 2700\n",
      "BackPropagation: 5217.3286 \n",
      "Feedback: 2059.887\n",
      "Iteration: 2800\n",
      "BackPropagation: 16939.568 \n",
      "Feedback: 17108.438\n",
      "Iteration: 2900\n",
      "BackPropagation: 13022.17 \n",
      "Feedback: 10337.328\n",
      "Iteration: 3000\n",
      "BackPropagation: 3395.9846 \n",
      "Feedback: 1989.6139\n",
      "Iteration: 3100\n",
      "BackPropagation: 4521.9546 \n",
      "Feedback: 5694.56\n",
      "Iteration: 3200\n",
      "BackPropagation: 11549.197 \n",
      "Feedback: 5985.0386\n",
      "Iteration: 3300\n",
      "BackPropagation: 8495.536 \n",
      "Feedback: 5944.663\n",
      "Iteration: 3400\n",
      "BackPropagation: 6562.5454 \n",
      "Feedback: 3799.165\n",
      "Iteration: 3500\n",
      "BackPropagation: 5758.08 \n",
      "Feedback: 2986.9065\n",
      "Iteration: 3600\n",
      "BackPropagation: 6843.6943 \n",
      "Feedback: 6922.29\n",
      "Iteration: 3700\n",
      "BackPropagation: 8044.824 \n",
      "Feedback: 6935.378\n",
      "Iteration: 3800\n",
      "BackPropagation: 7234.2964 \n",
      "Feedback: 11244.049\n",
      "Iteration: 3900\n",
      "BackPropagation: 4371.9907 \n",
      "Feedback: 8939.632\n",
      "Iteration: 4000\n",
      "BackPropagation: 6151.208 \n",
      "Feedback: 3832.4343\n",
      "Iteration: 4100\n",
      "BackPropagation: 6461.7056 \n",
      "Feedback: 4634.6387\n",
      "Iteration: 4200\n",
      "BackPropagation: 6364.582 \n",
      "Feedback: 4197.1606\n",
      "Iteration: 4300\n",
      "BackPropagation: 7523.4595 \n",
      "Feedback: 2739.9773\n",
      "Iteration: 4400\n",
      "BackPropagation: 7937.534 \n",
      "Feedback: 4230.545\n",
      "Iteration: 4500\n",
      "BackPropagation: 4033.8806 \n",
      "Feedback: 4617.46\n",
      "Iteration: 4600\n",
      "BackPropagation: 2021.5685 \n",
      "Feedback: 598.0997\n",
      "Iteration: 4700\n",
      "BackPropagation: 5126.2188 \n",
      "Feedback: 1833.3097\n",
      "Iteration: 4800\n",
      "BackPropagation: 5349.322 \n",
      "Feedback: 1986.5752\n",
      "Iteration: 4900\n",
      "BackPropagation: 5682.2344 \n",
      "Feedback: 2303.983\n",
      "Iteration: 5000\n",
      "BackPropagation: 2774.087 \n",
      "Feedback: 902.12585\n",
      "Iteration: 5100\n",
      "BackPropagation: 2635.4116 \n",
      "Feedback: 2899.1677\n",
      "Iteration: 5200\n",
      "BackPropagation: 2342.8848 \n",
      "Feedback: 4896.1553\n",
      "Iteration: 5300\n",
      "BackPropagation: 6935.3086 \n",
      "Feedback: 4930.6333\n",
      "Iteration: 5400\n",
      "BackPropagation: 5919.793 \n",
      "Feedback: 4383.819\n",
      "Iteration: 5500\n",
      "BackPropagation: 3366.3635 \n",
      "Feedback: 5714.0767\n",
      "Iteration: 5600\n",
      "BackPropagation: 2041.5543 \n",
      "Feedback: 624.2087\n",
      "Iteration: 5700\n",
      "BackPropagation: 5242.161 \n",
      "Feedback: 4457.3574\n",
      "Iteration: 5800\n",
      "BackPropagation: 1817.5847 \n",
      "Feedback: 172.30629\n",
      "Iteration: 5900\n",
      "BackPropagation: 1297.0648 \n",
      "Feedback: 4065.059\n",
      "Iteration: 6000\n",
      "BackPropagation: 287.2856 \n",
      "Feedback: 1802.7625\n",
      "Iteration: 6100\n",
      "BackPropagation: 876.86163 \n",
      "Feedback: 670.3133\n",
      "Iteration: 6200\n",
      "BackPropagation: 11261.117 \n",
      "Feedback: 8168.514\n",
      "Iteration: 6300\n",
      "BackPropagation: 3444.417 \n",
      "Feedback: 2101.7173\n",
      "Iteration: 6400\n",
      "BackPropagation: 2067.7659 \n",
      "Feedback: 1462.619\n",
      "Iteration: 6500\n",
      "BackPropagation: 1020.29193 \n",
      "Feedback: 709.42474\n",
      "Iteration: 6600\n",
      "BackPropagation: 3931.2295 \n",
      "Feedback: 1307.0166\n",
      "Iteration: 6700\n",
      "BackPropagation: 2720.4019 \n",
      "Feedback: 1261.8044\n",
      "Iteration: 6800\n",
      "BackPropagation: 6158.4556 \n",
      "Feedback: 4489.753\n",
      "Iteration: 6900\n",
      "BackPropagation: 2635.0828 \n",
      "Feedback: 1952.7908\n",
      "Iteration: 7000\n",
      "BackPropagation: 5991.927 \n",
      "Feedback: 1553.495\n",
      "Iteration: 7100\n",
      "BackPropagation: 1773.2355 \n",
      "Feedback: 2169.473\n",
      "Iteration: 7200\n",
      "BackPropagation: 1710.6626 \n",
      "Feedback: 2332.4697\n",
      "Iteration: 7300\n",
      "BackPropagation: 1789.8215 \n",
      "Feedback: 1630.0785\n",
      "Iteration: 7400\n",
      "BackPropagation: 4939.0737 \n",
      "Feedback: 4301.468\n",
      "Iteration: 7500\n",
      "BackPropagation: 6023.5073 \n",
      "Feedback: 2597.245\n",
      "Iteration: 7600\n",
      "BackPropagation: 2565.9885 \n",
      "Feedback: 6387.911\n",
      "Iteration: 7700\n",
      "BackPropagation: 862.93823 \n",
      "Feedback: 108.286865\n",
      "Iteration: 7800\n",
      "BackPropagation: 3091.066 \n",
      "Feedback: 5953.4927\n",
      "Iteration: 7900\n",
      "BackPropagation: 856.0069 \n",
      "Feedback: 1291.544\n",
      "Iteration: 8000\n",
      "BackPropagation: 1287.9415 \n",
      "Feedback: 895.1943\n",
      "Iteration: 8100\n",
      "BackPropagation: 274.1768 \n",
      "Feedback: 873.60034\n",
      "Iteration: 8200\n",
      "BackPropagation: 1741.8629 \n",
      "Feedback: 1536.4894\n",
      "Iteration: 8300\n",
      "BackPropagation: 2112.2573 \n",
      "Feedback: 4765.9395\n",
      "Iteration: 8400\n",
      "BackPropagation: 3300.6108 \n",
      "Feedback: 117.78213\n",
      "Iteration: 8500\n",
      "BackPropagation: 3755.5957 \n",
      "Feedback: 4882.3247\n",
      "Iteration: 8600\n",
      "BackPropagation: 8330.425 \n",
      "Feedback: 2228.4985\n",
      "Iteration: 8700\n",
      "BackPropagation: 1584.054 \n",
      "Feedback: 3021.3403\n",
      "Iteration: 8800\n",
      "BackPropagation: 2541.2068 \n",
      "Feedback: 1070.5919\n",
      "Iteration: 8900\n",
      "BackPropagation: 4020.7698 \n",
      "Feedback: 5611.563\n",
      "Iteration: 9000\n",
      "BackPropagation: 1117.6678 \n",
      "Feedback: 888.3322\n",
      "Iteration: 9100\n",
      "BackPropagation: 3655.9868 \n",
      "Feedback: 2801.9268\n",
      "Iteration: 9200\n",
      "BackPropagation: 593.55 \n",
      "Feedback: 595.3334\n",
      "Iteration: 9300\n",
      "BackPropagation: 1479.9762 \n",
      "Feedback: 433.6773\n",
      "Iteration: 9400\n",
      "BackPropagation: 329.43634 \n",
      "Feedback: 2167.0464\n",
      "Iteration: 9500\n",
      "BackPropagation: 533.31287 \n",
      "Feedback: 214.56438\n",
      "Iteration: 9600\n",
      "BackPropagation: 3636.843 \n",
      "Feedback: 5117.2944\n",
      "Iteration: 9700\n",
      "BackPropagation: 1762.1196 \n",
      "Feedback: 79.382126\n",
      "Iteration: 9800\n",
      "BackPropagation: 1013.07886 \n",
      "Feedback: 830.36255\n",
      "Iteration: 9900\n",
      "BackPropagation: 2878.583 \n",
      "Feedback: 394.91397\n"
     ]
    }
   ],
   "source": [
    "Y_hot=np.eye(10)[Y]\n",
    "store_err_bp=[]\n",
    "store_err_fa=[]\n",
    "acc_fa=[]\n",
    "acc_bp=[]\n",
    "with tf.Session() as sess:\n",
    "    sess.run(tf.global_variables_initializer())\n",
    "    for count in range(iterations):\n",
    "        batch_no=np.random.randint(0,X.shape[0],size=batch)\n",
    "    \n",
    "        inp_features=X[batch_no,:,:,:]\n",
    "        inp_features=inp_features.astype(np.float32)\n",
    "    \n",
    "        inp_labels=Y_hot[batch_no,:]\n",
    "        inp_labels=inp_labels.astype(np.float32)\n",
    "    \n",
    "        autobp_input=sess.run(bp_grad,feed_dict={images:inp_features,true_labels:inp_labels})\n",
    "        override_input=sess.run(override_grad,feed_dict={images:inp_features,true_labels:inp_labels})\n",
    "        \n",
    "        sess.run(train_op_bp,feed_dict={images:inp_features,true_labels:inp_labels})\n",
    "        sess.run(train_op_fa,feed_dict={images:inp_features,true_labels:inp_labels})\n",
    "        \n",
    "        entropy_bp=sess.run(cross_entropy_bp,feed_dict={images:inp_features,true_labels:inp_labels})\n",
    "        store_err_bp.append(np.mean(entropy_bp))\n",
    "        entropy_fa=sess.run(cross_entropy,feed_dict={images:inp_features,true_labels:inp_labels})\n",
    "        store_err_fa.append(np.mean(entropy_fa))\n",
    "        \n",
    "        acc_fa.append(sess.run(accuracy_fa,feed_dict={images:inp_features,true_labels:inp_labels}))\n",
    "        acc_bp.append(sess.run(accuracy_bp,feed_dict={images:inp_features,true_labels:inp_labels}))\n",
    "\n",
    "        \n",
    "        if count%100==0:\n",
    "            print(\"Iteration:\",count)\n",
    "            print(\"BackPropagation:\",sess.run(cost_bp,feed_dict={images:inp_features,true_labels:inp_labels}),\"\\nFeedback:\",sess.run(cost,feed_dict={images:inp_features,true_labels:inp_labels}))"
   ]
  },
  {
   "cell_type": "code",
   "execution_count": 24,
   "metadata": {},
   "outputs": [
    {
     "data": {
      "image/png": "[encoded data removed]",
      "text/plain": [
       "<matplotlib.figure.Figure at 0x7efbac449f60>"
      ]
     },
     "metadata": {},
     "output_type": "display_data"
    }
   ],
   "source": [
    "plt.plot(store_err_bp,'r',label='Back prop')\n",
    "plt.plot(store_err_fa,'b',label='Random feedback')\n",
    "plt.suptitle('Cross Entropy loss')\n",
    "plt.ylabel('Cross Entropy loss')\n",
    "plt.legend()\n",
    "plt.show()"
   ]
  },
  {
   "cell_type": "code",
   "execution_count": 25,
   "metadata": {},
   "outputs": [
    {
     "data": {
      "image/png": "[encoded data removed]",
      "text/plain": [
       "<matplotlib.figure.Figure at 0x7efb6fca5940>"
      ]
     },
     "metadata": {},
     "output_type": "display_data"
    }
   ],
   "source": [
    "plt.semilogy(store_err_bp,label='Back Prop')\n",
    "plt.semilogy(store_err_fa,label='Random feedback')\n",
    "plt.title('Cross Entropy on log scale')\n",
    "plt.ylabel('Cross Entropy loss')\n",
    "plt.legend()\n",
    "plt.show()"
   ]
  },
  {
   "cell_type": "code",
   "execution_count": 26,
   "metadata": {},
   "outputs": [
    {
     "data": {
      "image/png": "[encoded data removed]",
      "text/plain": [
       "<matplotlib.figure.Figure at 0x7efb6fcf0438>"
      ]
     },
     "metadata": {},
     "output_type": "display_data"
    }
   ],
   "source": [
    "plt.plot(acc_bp,label='Back Prop')\n",
    "plt.plot(acc_fa,label='Random Feedback')\n",
    "plt.ylabel('Accuracy')\n",
    "plt.suptitle(\"Accuracies after 10000 iterations\")\n",
    "plt.legend()\n",
    "plt.show()"
   ]
  },
  {
   "cell_type": "code",
   "execution_count": 27,
   "metadata": {},
   "outputs": [
    {
     "data": {
      "image/png": "[encoded data removed]",
      "text/plain": [
       "<matplotlib.figure.Figure at 0x7efb6fca5978>"
      ]
     },
     "metadata": {},
     "output_type": "display_data"
    }
   ],
   "source": [
    "n = 10 # the larger n is, the smoother curve will be\n",
    "b = [1.0 / n] * n\n",
    "a = 1\n",
    "yy_bp = lfilter(b,a,acc_bp)\n",
    "yy_fa = lfilter(b,a,acc_fa)\n",
    "\n",
    "plt.plot( yy_bp, linewidth=2, linestyle=\"-\", c=\"b\",label='BackProp')\n",
    "\n",
    "plt.plot( yy_fa, linewidth=2, linestyle=\"-\", c=\"g\",label='Random Feedback')\n",
    "plt.suptitle('After filtering the accuracies')\n",
    "plt.legend()\n",
    "plt.ylabel('Accuracy')\n",
    "plt.show()"
   ]
  },
  {
   "cell_type": "code",
   "execution_count": null,
   "metadata": {
    "collapsed": true
   },
   "outputs": [],
   "source": []
  },
  {
   "cell_type": "code",
   "execution_count": null,
   "metadata": {
    "collapsed": true
   },
   "outputs": [],
   "source": []
  }
 ],
 "metadata": {
  "kernelspec": {
   "display_name": "Python 3",
   "language": "python",
   "name": "python3"
  },
  "language_info": {
   "codemirror_mode": {
    "name": "ipython",
    "version": 3
   },
   "file_extension": ".py",
   "mimetype": "text/x-python",
   "name": "python",
   "nbconvert_exporter": "python",
   "pygments_lexer": "ipython3",
   "version": "3.6.1"
  }
 },
 "nbformat": 4,
 "nbformat_minor": 2
}
