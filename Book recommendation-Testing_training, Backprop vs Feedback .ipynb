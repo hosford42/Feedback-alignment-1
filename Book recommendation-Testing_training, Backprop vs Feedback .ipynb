{
 "cells": [
  {
   "cell_type": "code",
   "execution_count": 0,
   "metadata": {
    "colab": {
     "autoexec": {
      "startup": false,
      "wait_interval": 0
     },
     "base_uri": "https://localhost:8080/",
     "height": 140,
     "resources": {
      "http://localhost:8080/nbextensions/google.colab/files.js": {
       "data": "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",
       "headers": [
        [
         "content-type",
         "application/javascript"
        ]
       ],
       "ok": true,
       "status": 200,
       "status_text": ""
      }
     }
    },
    "colab_type": "code",
    "executionInfo": {
     "elapsed": 475671,
     "status": "ok",
     "timestamp": 1524606764772,
     "user": {
      "displayName": "Prashanth Prakash",
      "photoUrl": "https://lh3.googleusercontent.com/a/default-user=s128",
      "userId": "117073832391562156003"
     },
     "user_tz": 240
    },
    "id": "2slWIaganATY",
    "outputId": "57c741c1-c3e1-43f1-b5f5-1f020f2e315d"
   },
   "outputs": [
    {
     "data": {
      "text/html": [
       "\n",
       "     <input type=\"file\" id=\"files-d4823463-6ba1-427a-963d-7d24edce0cf6\" name=\"files[]\" multiple disabled />\n",
       "     <output id=\"result-d4823463-6ba1-427a-963d-7d24edce0cf6\">\n",
       "      Upload widget is only available when the cell has been executed in the\n",
       "      current browser session. Please rerun this cell to enable.\n",
       "      </output>\n",
       "      <script src=\"/nbextensions/google.colab/files.js\"></script> "
      ],
      "text/plain": [
       "<IPython.core.display.HTML object>"
      ]
     },
     "metadata": {
      "tags": []
     },
     "output_type": "display_data"
    },
    {
     "name": "stdout",
     "output_type": "stream",
     "text": [
      "Saving BX-Book-Ratings.csv to BX-Book-Ratings.csv\n",
      "Saving BX-Books.csv to BX-Books.csv\n",
      "Saving BX-Users.csv to BX-Users.csv\n"
     ]
    }
   ],
   "source": [
    "from google.colab import files\n",
    "\n",
    "uploaded = files.upload()"
   ]
  },
  {
   "cell_type": "code",
   "execution_count": 0,
   "metadata": {
    "colab": {
     "autoexec": {
      "startup": false,
      "wait_interval": 0
     }
    },
    "colab_type": "code",
    "collapsed": true,
    "id": "Xn6oPtm8F7-u"
   },
   "outputs": [],
   "source": [
    "## All Libraries used. \n",
    "\n",
    "# NOTE! --> Add all Libraries here so we know whats happeneing, Also comment next to it regarding what it does. \n",
    "\n",
    "import random \n",
    "import numpy as np   \n",
    "import pandas as pd    # Used for Dataframes. \n",
    "from scipy.spatial import distance_matrix\n",
    "import scipy\n",
    "import tensorflow as tf\n",
    "import numpy.random as rng\n",
    "from sklearn.decomposition import PCA\n"
   ]
  },
  {
   "cell_type": "code",
   "execution_count": 0,
   "metadata": {
    "colab": {
     "autoexec": {
      "startup": false,
      "wait_interval": 0
     }
    },
    "colab_type": "code",
    "collapsed": true,
    "id": "GpVKjBkyAIDh"
   },
   "outputs": [],
   "source": [
    "def train_test_split(ratings_df,percentage):\n",
    "  m,n = ratings_df.shape\n",
    "  V = round(m*(100-percentage)/100)\n",
    "  train = ratings_df.copy()\n",
    "\n",
    "\n",
    "  a = random.sample(range(ratings_df.shape[0]),int(V))\n",
    "\n",
    "  train['Ratings'].iloc[a] = np.nan\n",
    "  \n",
    "  \n",
    "  test = train.copy()\n",
    "\n",
    "  test = test.fillna(1000)\n",
    "  \n",
    "  test.ix[test['Ratings'] < 15, 'Ratings'] = np.nan\n",
    "\n",
    "  test.ix[test['Ratings'] == 1000, 'Ratings'] = 0\n",
    "  \n",
    "  test['Ratings'] = test['Ratings'] + ratings_df['Ratings']\n",
    "  \n",
    "  return train,test"
   ]
  },
  {
   "cell_type": "code",
   "execution_count": 0,
   "metadata": {
    "colab": {
     "autoexec": {
      "startup": false,
      "wait_interval": 0
     },
     "base_uri": "https://localhost:8080/",
     "height": 343
    },
    "colab_type": "code",
    "executionInfo": {
     "elapsed": 20009,
     "status": "ok",
     "timestamp": 1524624429955,
     "user": {
      "displayName": "Prashanth Prakash",
      "photoUrl": "https://lh3.googleusercontent.com/a/default-user=s128",
      "userId": "117073832391562156003"
     },
     "user_tz": 240
    },
    "id": "qQpzZeBDnCvB",
    "outputId": "83a907f9-cb04-4940-f34b-e7beb0db40c8"
   },
   "outputs": [
    {
     "name": "stderr",
     "output_type": "stream",
     "text": [
      "/usr/local/lib/python3.6/dist-packages/ipykernel_launcher.py:34: ParserWarning: Falling back to the 'python' engine because the 'c' engine does not support regex separators (separators > 1 char and different from '\\s+' are interpreted as regex); you can avoid this warning by specifying engine='python'.\n"
     ]
    },
    {
     "name": "stdout",
     "output_type": "stream",
     "text": [
      "Data Pre processing complete\n",
      " Now splitting the data into 25% test and 75% train\n"
     ]
    },
    {
     "name": "stderr",
     "output_type": "stream",
     "text": [
      "/usr/local/lib/python3.6/dist-packages/pandas/core/indexing.py:194: SettingWithCopyWarning: \n",
      "A value is trying to be set on a copy of a slice from a DataFrame\n",
      "\n",
      "See the caveats in the documentation: http://pandas.pydata.org/pandas-docs/stable/indexing.html#indexing-view-versus-copy\n",
      "  self._setitem_with_indexer(indexer, value)\n",
      "/usr/local/lib/python3.6/dist-packages/ipykernel_launcher.py:16: DeprecationWarning: \n",
      ".ix is deprecated. Please use\n",
      ".loc for label based indexing or\n",
      ".iloc for positional indexing\n",
      "\n",
      "See the documentation here:\n",
      "http://pandas.pydata.org/pandas-docs/stable/indexing.html#ix-indexer-is-deprecated\n",
      "  app.launch_new_instance()\n"
     ]
    },
    {
     "name": "stdout",
     "output_type": "stream",
     "text": [
      "905 users\n",
      "207699 books\n"
     ]
    }
   ],
   "source": [
    "# -*- coding: utf-8 -*-\n",
    "\"\"\"\n",
    "Created on Fri Apr 20 17:52:49 2018\n",
    "\n",
    "@author: prash\n",
    "\"\"\"\n",
    "\n",
    "# -*- coding: utf-8 -*-\n",
    "\"\"\"\n",
    "Created on Fri Apr 20 12:29:19 2018\n",
    "\n",
    "@author: prash\n",
    "\"\"\"\n",
    "\n",
    "\n",
    "# coding: utf-8\n",
    "\n",
    "# # Libraries Used\n",
    "\n",
    "# In[25]:\n",
    "\n",
    "\n",
    "\n",
    "# # Reading the Dataset\n",
    "\n",
    "\n",
    "# In[3]:\n",
    "\n",
    "\n",
    "## Reading the CSV File.\n",
    "\n",
    "# Reading this CSV is done a liitle differently as there is \";\" instead \",\"(Comma).\n",
    "# Postprocessing to make the proper Dataframe is in the next Cell. \n",
    "\n",
    "df = pd.read_csv('BX-Book-Ratings.csv',sep='delimiter') # Reading the CSV File\n",
    "\n",
    "\n",
    "# In[4]:\n",
    "\n",
    "\n",
    "## Preprocessing to form the proper Dataset.\n",
    "\n",
    "series = df['\"User-ID\";\"ISBN\";\"Book-Rating\"'].astype(str)  # Converting into Series to perform the operations\n",
    "\n",
    "df = pd.DataFrame(series.str.split(';',expand=True)) # Splitting the Series(strings) with a delimeter (';')\n",
    "\n",
    "df.columns = ['User-ID', 'ISBN', 'Ratings'] # Changing the Column Name\n",
    "\n",
    "\n",
    "# In[5]:\n",
    "\n",
    "\n",
    "## Removing the  '\"\"' from each column and converting them into intergers. \n",
    "\n",
    "df['User-ID'] = df['User-ID'].map(lambda x: x.lstrip('\"').rstrip('\"'))\n",
    "df['ISBN'] = df['ISBN'].map(lambda x: x.lstrip('\"').rstrip('\"'))\n",
    "df['Ratings'] = df['Ratings'].map(lambda x: x.lstrip('\"').rstrip('\"'))\n",
    "\n",
    "df['User-ID'] = df['User-ID'].astype(int)\n",
    "df['Ratings'] = df['Ratings'].astype(int)\n",
    "df['ISBN'] = df['ISBN'].astype(str)\n",
    "\n",
    "ratings_df=df\n",
    "\n",
    "# In[9]:\n",
    "\n",
    "\n",
    "\n",
    "\n",
    "# # NOTE: NEXT STEP IS ONLY FOR LOCAL COMPS NOT AWS!!\n",
    "# \n",
    "# # Otherwise we run the entire matrix!\n",
    "\n",
    "# # Filtering Important Data using Pandas\n",
    "\n",
    "# In[14]:\n",
    "\n",
    "\n",
    "## Filtering out impotant books to make the dataset smaller\n",
    "\n",
    "# users with less than 200 ratings and books with less than 100 ratings are excluded\n",
    "\n",
    "c = ratings_df['User-ID'].value_counts()\n",
    "\n",
    "ratings_df = ratings_df[ratings_df['User-ID'].isin(c[c >= 200].index)]\n",
    "\n",
    "c = ratings_df['Ratings'].value_counts()\n",
    "\n",
    "ratings_df = ratings_df[ratings_df['Ratings'].isin(c[c >= 100].index)]\n",
    "\n",
    "#ratings_df.head()\n",
    "percentage=75\n",
    "print (\"Data Pre processing complete\"+\"\\n Now splitting the data into 25% test and 75% train\")\n",
    "train_ratings,test_ratings=train_test_split(ratings_df,percentage)\n",
    "\n",
    "train_ratings_mat_df = train_ratings.pivot(index ='User-ID', columns ='ISBN', values ='Ratings')\n",
    "\n",
    "test_ratings_mat_df = test_ratings.pivot(index ='User-ID', columns ='ISBN', values ='Ratings')\n",
    "\n",
    "## Creating the Desired Matrix\n",
    "\n",
    "ratings_mat_df = ratings_df.pivot(index ='User-ID', columns ='ISBN', values ='Ratings')\n",
    "\n",
    "\n",
    "num_users = ratings_df['User-ID'].unique().shape[0]\n",
    "num_books = ratings_df['ISBN'].unique().shape[0]\n",
    "print(str(num_users) + ' users')\n",
    "print(str(num_books) + ' books')\n",
    "\n",
    "# At this point the ratings range from 1 to 11 where 11 represents a 0 rating\n",
    "# # Number of Users & Books\n",
    "\n",
    "# In[15]:\n",
    "\n"
   ]
  },
  {
   "cell_type": "code",
   "execution_count": 0,
   "metadata": {
    "colab": {
     "autoexec": {
      "startup": false,
      "wait_interval": 0
     }
    },
    "colab_type": "code",
    "collapsed": true,
    "id": "lUo99Z8bnFxt"
   },
   "outputs": [],
   "source": [
    "# At this point the ratings range from 1 to 11 where 11 represents a 0 rating\n",
    "\n",
    "\n",
    "#Now Converting this dataframe into an array without doing anythin to the nans\n",
    "ratings=np.asarray(ratings_mat_df)\n",
    "ratings[ratings==0]=11 #converting all 0s to 11\n",
    "ratings[np.isnan(ratings)]=0 # Convert nans to zeros \n",
    "\n",
    "train_ratings=np.asarray(train_ratings_mat_df)\n",
    "train_ratings[train_ratings==0]=11 #converting all 0s to 11\n",
    "train_ratings[np.isnan(train_ratings)]=0 # Convert nans to zeros \n",
    "\n",
    "test_ratings=np.asarray(test_ratings_mat_df)\n",
    "test_ratings[test_ratings==0]=11 #converting all 0s to 11\n",
    "test_ratings[np.isnan(test_ratings)]=0 # Convert nans to zeros \n"
   ]
  },
  {
   "cell_type": "code",
   "execution_count": 0,
   "metadata": {
    "colab": {
     "autoexec": {
      "startup": false,
      "wait_interval": 0
     },
     "base_uri": "https://localhost:8080/",
     "height": 34
    },
    "colab_type": "code",
    "executionInfo": {
     "elapsed": 98174,
     "status": "ok",
     "timestamp": 1524624531102,
     "user": {
      "displayName": "Prashanth Prakash",
      "photoUrl": "https://lh3.googleusercontent.com/a/default-user=s128",
      "userId": "117073832391562156003"
     },
     "user_tz": 240
    },
    "id": "OJmW-VhEnLCD",
    "outputId": "6e45f7dd-c0b7-47aa-a796-df75130715e8"
   },
   "outputs": [
    {
     "name": "stdout",
     "output_type": "stream",
     "text": [
      "Reducing dimensions of the feature matirix to 50\n"
     ]
    }
   ],
   "source": [
    "print(\"Reducing dimensions of the feature matirix to 50\")\n",
    "dimensions=50\n",
    "pca_train=PCA(n_components=dimensions)\n",
    "pca_train.fit(train_ratings)\n",
    "train_pca=pca_train.transform(train_ratings)\n",
    "\n",
    "\n",
    "pca_total=PCA(n_components=dimensions)\n",
    "pca_total.fit(ratings)\n",
    "total_pca=pca_total.transform(ratings)\n",
    "\n",
    "pca_test=PCA(n_components=dimensions)\n",
    "pca_test.fit(test_ratings)\n",
    "test_pca=pca_test.transform(test_ratings)\n"
   ]
  },
  {
   "cell_type": "code",
   "execution_count": 0,
   "metadata": {
    "colab": {
     "autoexec": {
      "startup": false,
      "wait_interval": 0
     },
     "base_uri": "https://localhost:8080/",
     "height": 34
    },
    "colab_type": "code",
    "executionInfo": {
     "elapsed": 228,
     "status": "ok",
     "timestamp": 1524623377285,
     "user": {
      "displayName": "Prashanth Prakash",
      "photoUrl": "https://lh3.googleusercontent.com/a/default-user=s128",
      "userId": "117073832391562156003"
     },
     "user_tz": 240
    },
    "id": "U9F8cPL1JqwU",
    "outputId": "638bd3f4-dedb-4e95-eb7d-cc8396c86df6"
   },
   "outputs": [
    {
     "data": {
      "text/plain": [
       "(905, 50)"
      ]
     },
     "execution_count": 6,
     "metadata": {
      "tags": []
     },
     "output_type": "execute_result"
    }
   ],
   "source": [
    "test_pca.shape"
   ]
  },
  {
   "cell_type": "code",
   "execution_count": 0,
   "metadata": {
    "colab": {
     "autoexec": {
      "startup": false,
      "wait_interval": 0
     }
    },
    "colab_type": "code",
    "collapsed": true,
    "id": "BmIOaSFYnTDy"
   },
   "outputs": [],
   "source": [
    "\n",
    "# In[]: Neural Network\n",
    "# Model P in the NN\n",
    "def relu_deriv(X):\n",
    "    m=tf.Variable(tf.zeros(X.shape,dtype=tf.float64))\n",
    "    X=tf.nn.relu(X)\n",
    "    comparison_pos = tf.greater(X, tf.constant( 1.0 ,dtype=tf.float64))\n",
    "    m =m.assign( tf.where (comparison_pos, tf.ones_like(X), X) )\n",
    "    return m\n",
    "\n",
    "batch=50 #5 works (without PPCA)\n",
    "#Training parameters \n",
    "iterations=1000\n",
    "eta=tf.constant(0.000001,dtype=tf.float64) #0.00001 works but any larger value of eta makes the cost unstable for a batch size of 5 and hidden units =5\n",
    "\n",
    "\n",
    "testshape=test_pca.shape\n",
    "units = 200 #5 works\n",
    "\n",
    "#Training Data Inputs\n",
    "x=tf.placeholder(tf.float64,[batch,train_pca.shape[1]],name='x_P')\n",
    "\n",
    "y=tf.placeholder(tf.float64,testshape,name='y_test')\n",
    "\n",
    "#Back Prop\n",
    "w_1=tf.Variable(rng.randn(units,train_pca.shape[1]))\n",
    "w_2=tf.Variable(rng.randn(units,train_pca.shape[1]))\n",
    "#b_1=tf.Variable(rng.randn(train_pca.shape[1]))\n",
    "#b_2=tf.Variable(rng.randn(1,batch))\n",
    "\n",
    "\n",
    "hidoutbp=tf.nn.relu(tf.matmul(x,tf.transpose(w_1)))\n",
    "h_primebp=relu_deriv(hidoutbp)\n",
    "y_predbp=tf.nn.relu(tf.matmul(hidoutbp,(w_2)))\n",
    "\n",
    "ebp=y_predbp-x\n",
    "costbp=tf.sqrt(tf.reduce_sum(tf.pow(ebp,2))/(batch))\n",
    "\n",
    "We=tf.matmul(ebp,tf.transpose(w_2))\n",
    "\n",
    "# Gradients for a squared loss \n",
    "\n",
    "dLw2=tf.matmul(tf.transpose(hidoutbp),ebp)\n",
    "#dLb2=tf.reduce_sum(ebp)\n",
    "\n",
    "dLw1 = (tf.matmul(tf.transpose(tf.multiply(We, h_primebp)),x))\n",
    "#dLb1=tf.reduce_sum(tf.multiply(We, h_primebp),0)\n",
    "                 \n",
    "\n",
    "\n",
    "#Feedback alignment\n",
    "w_1fa=tf.Variable(w_1.initialized_value())\n",
    "\n",
    "\n",
    "w_2fa=tf.Variable(w_2.initialized_value())\n",
    "\n",
    "\n",
    "hidoutfa=tf.nn.relu(tf.matmul(x,tf.transpose(w_1fa)))\n",
    "h_primefa=relu_deriv(hidoutfa)\n",
    "y_predfa=tf.nn.relu(tf.matmul(hidoutfa,(w_2fa)))\n",
    "\n",
    "B=tf.Variable(rng.randn(units,train_pca.shape[1]))\n",
    "efa=y_predfa-x\n",
    "\n",
    "costfa=tf.sqrt(tf.reduce_sum(tf.pow(efa,2))/(batch))\n",
    "\n",
    "Be=tf.matmul(ebp,tf.transpose(B))\n",
    "               \n",
    "# Gradients for a squared loss\n",
    "dLw1fa = (tf.matmul(tf.transpose(tf.multiply(Be, h_primefa)),x))\n",
    "\n",
    "dLw2fa=tf.matmul(tf.transpose(hidoutfa),efa)\n",
    "\n",
    "               \n",
    "               \n",
    "# Testing on trained models per epoch\n",
    "\n",
    "hidoutbp_test=tf.nn.relu(tf.matmul(y,tf.transpose(w_1)))\n",
    "y_predtestbp=tf.nn.relu(tf.matmul(hidoutbp_test,(w_2)))  #Back prop testing\n",
    "ebp_test=y_predtestbp-y\n",
    "\n",
    "hidoutfa_test=tf.nn.relu(tf.matmul(y,tf.transpose(w_1fa)))\n",
    "y_predtestfa=tf.nn.relu(tf.matmul(hidoutfa_test,(w_2fa))) #Feedback Alignment\n",
    "efa_test=y_predtestfa-y \n",
    "\n",
    "\n",
    "costbp_test=tf.sqrt(tf.reduce_sum(tf.pow(ebp_test,2))/(batch))\n",
    "\n",
    "costfa_test=tf.sqrt(tf.reduce_sum(tf.pow(efa_test,2))/(batch))\n",
    "\n"
   ]
  },
  {
   "cell_type": "code",
   "execution_count": 0,
   "metadata": {
    "colab": {
     "autoexec": {
      "startup": false,
      "wait_interval": 0
     }
    },
    "colab_type": "code",
    "collapsed": true,
    "id": "UOpOhlrW1ISL"
   },
   "outputs": [],
   "source": [
    "               \n",
    "def updatebp(w_1,w_2):\n",
    "    new_w1=w_1.assign(w_1-tf.multiply(eta,dLw1))\n",
    "    new_w2=w_2.assign(w_2-tf.multiply(eta,dLw2))\n",
    "    return new_w1,new_w2\n",
    "\n",
    "def updatefa(w_1fa,w_2fa):\n",
    "    new_w1fa=w_1fa.assign(w_1fa-tf.multiply(eta,dLw1fa))\n",
    "    new_w2fa=w_2fa.assign(w_2fa-tf.multiply(eta,dLw2fa))\n",
    "    return new_w1fa,new_w2fa\n"
   ]
  },
  {
   "cell_type": "code",
   "execution_count": 0,
   "metadata": {
    "colab": {
     "autoexec": {
      "startup": false,
      "wait_interval": 0
     },
     "base_uri": "https://localhost:8080/",
     "height": 1411
    },
    "colab_type": "code",
    "executionInfo": {
     "elapsed": 511265,
     "status": "ok",
     "timestamp": 1524625043147,
     "user": {
      "displayName": "Prashanth Prakash",
      "photoUrl": "https://lh3.googleusercontent.com/a/default-user=s128",
      "userId": "117073832391562156003"
     },
     "user_tz": 240
    },
    "id": "GMiUwmGf1QTD",
    "outputId": "4d340028-b3d1-4925-ce52-c138c0fe27a5"
   },
   "outputs": [
    {
     "name": "stdout",
     "output_type": "stream",
     "text": [
      "Starting\n",
      "Commencing Training\n",
      "Training cost:\n",
      "iteration: 0 Backprop:286.451235 \t Feedback alignment:3122.980788\n",
      "Testing cost:\n",
      "iteration: 0 Backprop:13259.569199 \t Feedback alignment:2341.626595\n",
      "Training cost:\n",
      "iteration: 50 Backprop:46.349486 \t Feedback alignment:395.690774\n",
      "Testing cost:\n",
      "iteration: 50 Backprop:3242.282143 \t Feedback alignment:24888.322924\n",
      "Training cost:\n",
      "iteration: 100 Backprop:38.729474 \t Feedback alignment:17894.875524\n",
      "Testing cost:\n",
      "iteration: 100 Backprop:2606.658474 \t Feedback alignment:118551.876639\n",
      "Training cost:\n",
      "iteration: 150 Backprop:41.967952 \t Feedback alignment:155.201884\n",
      "Testing cost:\n",
      "iteration: 150 Backprop:2414.517534 \t Feedback alignment:51150.805915\n",
      "Training cost:\n",
      "iteration: 200 Backprop:20.577400 \t Feedback alignment:122.640460\n",
      "Testing cost:\n",
      "iteration: 200 Backprop:2289.304522 \t Feedback alignment:125917.660252\n",
      "Training cost:\n",
      "iteration: 250 Backprop:23.300625 \t Feedback alignment:164.536140\n",
      "Testing cost:\n",
      "iteration: 250 Backprop:2204.679966 \t Feedback alignment:83225.346268\n",
      "Training cost:\n",
      "iteration: 300 Backprop:20.923211 \t Feedback alignment:81.608883\n",
      "Testing cost:\n",
      "iteration: 300 Backprop:2139.938379 \t Feedback alignment:57953.499785\n",
      "Training cost:\n",
      "iteration: 350 Backprop:19.447150 \t Feedback alignment:136.470434\n",
      "Testing cost:\n",
      "iteration: 350 Backprop:2100.286395 \t Feedback alignment:104830.579427\n",
      "Training cost:\n",
      "iteration: 400 Backprop:21.843782 \t Feedback alignment:135.437872\n",
      "Testing cost:\n",
      "iteration: 400 Backprop:2064.608229 \t Feedback alignment:153275.447862\n",
      "Training cost:\n",
      "iteration: 450 Backprop:16.187050 \t Feedback alignment:1297.187174\n",
      "Testing cost:\n",
      "iteration: 450 Backprop:2030.318063 \t Feedback alignment:259126.662638\n",
      "Training cost:\n",
      "iteration: 500 Backprop:12.750551 \t Feedback alignment:41.987987\n",
      "Testing cost:\n",
      "iteration: 500 Backprop:2004.442047 \t Feedback alignment:237823.232664\n",
      "Training cost:\n",
      "iteration: 550 Backprop:14.213044 \t Feedback alignment:99.021257\n",
      "Testing cost:\n",
      "iteration: 550 Backprop:1971.558500 \t Feedback alignment:260907.350498\n",
      "Training cost:\n",
      "iteration: 600 Backprop:14.316865 \t Feedback alignment:432.726157\n",
      "Testing cost:\n",
      "iteration: 600 Backprop:1937.186908 \t Feedback alignment:369498.431368\n",
      "Training cost:\n",
      "iteration: 650 Backprop:15.319466 \t Feedback alignment:81.246427\n",
      "Testing cost:\n",
      "iteration: 650 Backprop:1927.800327 \t Feedback alignment:438911.631305\n",
      "Training cost:\n",
      "iteration: 700 Backprop:15.348577 \t Feedback alignment:894.374523\n",
      "Testing cost:\n",
      "iteration: 700 Backprop:1908.624627 \t Feedback alignment:204445.580464\n",
      "Training cost:\n",
      "iteration: 750 Backprop:16.485086 \t Feedback alignment:161.237421\n",
      "Testing cost:\n",
      "iteration: 750 Backprop:1890.667059 \t Feedback alignment:214599.735266\n",
      "Training cost:\n",
      "iteration: 800 Backprop:13.681911 \t Feedback alignment:146.547017\n",
      "Testing cost:\n",
      "iteration: 800 Backprop:1873.759400 \t Feedback alignment:530361.783633\n",
      "Training cost:\n",
      "iteration: 850 Backprop:11.451352 \t Feedback alignment:27.156750\n",
      "Testing cost:\n",
      "iteration: 850 Backprop:1858.271207 \t Feedback alignment:248859.862038\n",
      "Training cost:\n",
      "iteration: 900 Backprop:13.026339 \t Feedback alignment:71.356056\n",
      "Testing cost:\n",
      "iteration: 900 Backprop:1857.727963 \t Feedback alignment:293606.828095\n",
      "Training cost:\n",
      "iteration: 950 Backprop:13.031438 \t Feedback alignment:147.328602\n",
      "Testing cost:\n",
      "iteration: 950 Backprop:1858.030763 \t Feedback alignment:396841.333410\n"
     ]
    }
   ],
   "source": [
    "init = tf.global_variables_initializer()\n",
    "bplist_train=[]\n",
    "falist_train=[]\n",
    "\n",
    "bplist_test=[]\n",
    "falist_test=[]\n",
    "\n",
    "print (\"Starting\")\n",
    "with tf.Session() as sess:\n",
    "    #data=ratings[np.random.randint(ratings.shape[0],size=batch),:]\n",
    "    #data=data/11\n",
    "    sess.run(init)\n",
    "    print(\"Commencing Training\")\n",
    "    for idx in range(iterations):\n",
    "      data_train=train_pca[np.random.randint(train_pca.shape[0],size=batch),:]\n",
    "      sess.run(updatebp(w_1,w_2),feed_dict={x:data_train/11})\n",
    "      cbp = sess.run(costbp, feed_dict={x: data_train/11})\n",
    "      bplist_train.append(np.sqrt(cbp))\n",
    "      cbp_test=sess.run(costbp_test,feed_dict={y:test_pca})\n",
    "      bplist_test.append(cbp_test)\n",
    "\n",
    "      sess.run(updatefa(w_1fa,w_2fa),feed_dict={x:data_train})\n",
    "      \n",
    "      cfa = sess.run(costfa, feed_dict={x: data_train})\n",
    "      \n",
    "      falist_train.append(np.sqrt(cfa))        \n",
    "      \n",
    "      cfa_test=sess.run(costfa_test,feed_dict={y:test_pca})\n",
    "      falist_test.append(cfa_test)\n",
    "\n",
    "      if idx % 50==0:\n",
    "        print(\"Training cost:\\niteration: %d Backprop:%f \\t Feedback alignment:%f\" %(idx,cbp,cfa))\n",
    "        print(\"Testing cost:\\niteration: %d Backprop:%f \\t Feedback alignment:%f\" %(idx,cbp_test,cfa_test))"
   ]
  },
  {
   "cell_type": "code",
   "execution_count": 0,
   "metadata": {
    "colab": {
     "autoexec": {
      "startup": false,
      "wait_interval": 0
     },
     "base_uri": "https://localhost:8080/",
     "height": 376
    },
    "colab_type": "code",
    "executionInfo": {
     "elapsed": 511,
     "status": "ok",
     "timestamp": 1524625043671,
     "user": {
      "displayName": "Prashanth Prakash",
      "photoUrl": "https://lh3.googleusercontent.com/a/default-user=s128",
      "userId": "117073832391562156003"
     },
     "user_tz": 240
    },
    "id": "uRlv0khpnWn_",
    "outputId": "1bfaa0fc-ff45-4aec-ab84-12ca40b69c58"
   },
   "outputs": [
    {
     "data": {
      "image/png": "[encoded data removed]",
      "text/plain": [
       "<matplotlib.figure.Figure at 0x7fb8583a5240>"
      ]
     },
     "metadata": {
      "tags": []
     },
     "output_type": "display_data"
    }
   ],
   "source": [
    "import matplotlib.pyplot as plt\n",
    "#newList = [x / 15 for x in costbp]\n",
    "plt.plot(bplist_train,label=\"Back Prop\")\n",
    "\n",
    "plt.xlabel(\"Iterations\")\n",
    "plt.ylabel(\"Root Mean Squared Error\")\n",
    "plt.title(\"Back prop train\")\n",
    "plt.legend()\n",
    "plt.show()"
   ]
  },
  {
   "cell_type": "code",
   "execution_count": 0,
   "metadata": {
    "colab": {
     "autoexec": {
      "startup": false,
      "wait_interval": 0
     },
     "base_uri": "https://localhost:8080/",
     "height": 376
    },
    "colab_type": "code",
    "executionInfo": {
     "elapsed": 492,
     "status": "ok",
     "timestamp": 1524625044174,
     "user": {
      "displayName": "Prashanth Prakash",
      "photoUrl": "https://lh3.googleusercontent.com/a/default-user=s128",
      "userId": "117073832391562156003"
     },
     "user_tz": 240
    },
    "id": "KWmarshjsE3_",
    "outputId": "39e45464-5347-495b-8b40-bc31fb82063b"
   },
   "outputs": [
    {
     "data": {
      "image/png": "[encoded data removed]",
      "text/plain": [
       "<matplotlib.figure.Figure at 0x7fb84314f668>"
      ]
     },
     "metadata": {
      "tags": []
     },
     "output_type": "display_data"
    }
   ],
   "source": [
    "import matplotlib.pyplot as plt\n",
    "#newList = [x / 15 for x in costbp]\n",
    "plt.plot(bplist_test,label=\"Back Prop\")\n",
    "plt.xlabel(\"Iterations\")\n",
    "plt.ylabel(\"Root Mean Squared Error\")\n",
    "plt.title(\"Backpropagation test\")\n",
    "plt.legend()\n",
    "plt.show()"
   ]
  },
  {
   "cell_type": "code",
   "execution_count": 0,
   "metadata": {
    "colab": {
     "autoexec": {
      "startup": false,
      "wait_interval": 0
     },
     "base_uri": "https://localhost:8080/",
     "height": 376
    },
    "colab_type": "code",
    "executionInfo": {
     "elapsed": 437,
     "status": "ok",
     "timestamp": 1524625044651,
     "user": {
      "displayName": "Prashanth Prakash",
      "photoUrl": "https://lh3.googleusercontent.com/a/default-user=s128",
      "userId": "117073832391562156003"
     },
     "user_tz": 240
    },
    "id": "WPk2Cpq4_sT5",
    "outputId": "405321fe-0d7b-4352-dbb0-7a6c32d05ea4"
   },
   "outputs": [
    {
     "data": {
      "image/png": "[encoded data removed]",
      "text/plain": [
       "<matplotlib.figure.Figure at 0x7fb8435a0240>"
      ]
     },
     "metadata": {
      "tags": []
     },
     "output_type": "display_data"
    }
   ],
   "source": [
    "import matplotlib.pyplot as plt\n",
    "#newList = [x / 15 for x in costbp]\n",
    "plt.plot(falist_train,label=\"Back Prop\")\n",
    "\n",
    "plt.xlabel(\"Iterations\")\n",
    "plt.ylabel(\"Root Mean Squared Error\")\n",
    "plt.title(\"Feedback train\")\n",
    "plt.legend()\n",
    "plt.show()"
   ]
  },
  {
   "cell_type": "code",
   "execution_count": 0,
   "metadata": {
    "colab": {
     "autoexec": {
      "startup": false,
      "wait_interval": 0
     },
     "base_uri": "https://localhost:8080/",
     "height": 376
    },
    "colab_type": "code",
    "executionInfo": {
     "elapsed": 469,
     "status": "ok",
     "timestamp": 1524625045153,
     "user": {
      "displayName": "Prashanth Prakash",
      "photoUrl": "https://lh3.googleusercontent.com/a/default-user=s128",
      "userId": "117073832391562156003"
     },
     "user_tz": 240
    },
    "id": "mmY3d2UirxNh",
    "outputId": "ea81326b-c981-4acd-bf44-9a463c98a11a"
   },
   "outputs": [
    {
     "data": {
      "image/png": "[encoded data removed]",
      "text/plain": [
       "<matplotlib.figure.Figure at 0x7fb84398d1d0>"
      ]
     },
     "metadata": {
      "tags": []
     },
     "output_type": "display_data"
    }
   ],
   "source": [
    "import matplotlib.pyplot as plt\n",
    "#newList = [x / 15 for x in costbp]\n",
    "plt.plot(falist_test,label=\"Back Prop\")\n",
    "\n",
    "plt.xlabel(\"Iterations\")\n",
    "plt.ylabel(\"Root Mean Squared Error\")\n",
    "plt.title(\"Feedback test\")\n",
    "plt.legend()\n",
    "plt.show()"
   ]
  }
 ],
 "metadata": {
  "colab": {
   "collapsed_sections": [],
   "default_view": {},
   "name": "Testing_training, Backprop vs Feedback.ipynb",
   "provenance": [
    {
     "file_id": "1bTfcGt_dTgY6PEC62x4b0N-xuQd9aHhN",
     "timestamp": 1524625550921
    }
   ],
   "version": "0.3.2",
   "views": {}
  },
  "kernelspec": {
   "display_name": "Python 3",
   "language": "python",
   "name": "python3"
  },
  "language_info": {
   "codemirror_mode": {
    "name": "ipython",
    "version": 3
   },
   "file_extension": ".py",
   "mimetype": "text/x-python",
   "name": "python",
   "nbconvert_exporter": "python",
   "pygments_lexer": "ipython3",
   "version": "3.6.3"
  }
 },
 "nbformat": 4,
 "nbformat_minor": 1
}
