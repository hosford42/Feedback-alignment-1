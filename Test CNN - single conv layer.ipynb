{
 "cells": [
  {
   "cell_type": "code",
   "execution_count": 1,
   "metadata": {},
   "outputs": [
    {
     "name": "stderr",
     "output_type": "stream",
     "text": [
      "/opt/anaconda/miniconda2/envs/py34/lib/python3.6/site-packages/h5py/__init__.py:34: FutureWarning: Conversion of the second argument of issubdtype from `float` to `np.floating` is deprecated. In future, it will be treated as `np.float64 == np.dtype(float).type`.\n",
      "  from ._conv import register_converters as _register_converters\n"
     ]
    }
   ],
   "source": [
    "import os\n",
    "os.environ[\"CUDA_VISIBLE_DEVICES\"]=\"0\"\n",
    "import tensorflow as tf \n",
    "import numpy as np \n",
    "import pickle\n",
    "import numpy.random as rng\n",
    "import matplotlib.pyplot as plt\n",
    "from scipy.signal import lfilter"
   ]
  },
  {
   "cell_type": "code",
   "execution_count": 2,
   "metadata": {
    "collapsed": true
   },
   "outputs": [],
   "source": [
    "fo=open('/home/prashanth/cifar-10-batches-py/data_batch_1','rb')\n",
    "dict=pickle.load(fo,encoding='bytes')\n",
    "X=dict[b'data']\n",
    "Y=dict[b'labels']\n",
    "fo.close\n",
    "X=X.reshape((len(X),3,32,32)).transpose(0,2,3,1).astype(\"uint8\")\n",
    "Y=np.array(Y)"
   ]
  },
  {
   "cell_type": "code",
   "execution_count": 3,
   "metadata": {
    "collapsed": true
   },
   "outputs": [],
   "source": [
    "def forward_conv(weights,input):\n",
    "    return(tf.nn.conv2d(input,weights,strides=[1,1,1,1],padding=\"SAME\"))\n",
    "\n",
    "def forward_pooling_layer(inp):\n",
    "    return(tf.nn.max_pool(value=inp,ksize=[1,2,2,1],strides=[1,1,1,1],padding=\"SAME\"))\n",
    "\n",
    "def flatten_forward(layer):\n",
    "    inp_list=layer.get_shape().as_list()\n",
    "    new_size = inp_list[-1] * inp_list[-2] * inp_list[-3]\n",
    "    return tf.reshape(layer,[-1,new_size]),new_size\n",
    "\n",
    "def fc_forward(layer,weights):\n",
    "    return tf.matmul(layer,weights)\n",
    "\n",
    "def activation(layer):\n",
    "    return tf.nn.relu(layer)"
   ]
  },
  {
   "cell_type": "code",
   "execution_count": 4,
   "metadata": {
    "collapsed": true
   },
   "outputs": [],
   "source": [
    "filter_random = tf.Variable(rng.randn(5,5,3,32), dtype = tf.float32)\n",
    "\n",
    "@tf.RegisterGradient(\"CustomConv\")\n",
    "def _conv2d(op,grad):\n",
    "    print(\"in override backprop\")\n",
    "    input = op.inputs[0]\n",
    "    filter = op.inputs[1]\n",
    "    in_shape = tf.shape(input)\n",
    "    f_shape = tf.shape(filter)\n",
    "    g_input = tf.nn.conv2d_backprop_input(input_sizes = in_shape, filter = filter_random, out_backprop = grad, strides = [1,1,1,1], padding = \"SAME\")\n",
    "    g_filter = tf.nn.conv2d_backprop_filter(input, filter_sizes = f_shape, out_backprop = grad, strides = [1,1,1,1], padding = \"SAME\")\n",
    "    return g_input, g_filter\n",
    "\n"
   ]
  },
  {
   "cell_type": "markdown",
   "metadata": {},
   "source": [
    "# Forward pass"
   ]
  },
  {
   "cell_type": "code",
   "execution_count": 5,
   "metadata": {
    "collapsed": true
   },
   "outputs": [],
   "source": [
    "batch=100\n",
    "iterations=1000"
   ]
  },
  {
   "cell_type": "code",
   "execution_count": 6,
   "metadata": {
    "collapsed": true
   },
   "outputs": [],
   "source": [
    "filter_conv=tf.Variable(rng.randn(5,5,3,32), dtype = tf.float32) #constant\n",
    "images=tf.placeholder(tf.float32,shape=(batch,32,32,3),name='images')\n",
    "true_labels=tf.placeholder(tf.float32,shape=(batch,10),name='true_labels')\n",
    "\n",
    "#net_conv=forward_conv(filter_conv,images)\n",
    "\n",
    "g=tf.get_default_graph()\n",
    "with g.gradient_override_map({\"Conv2D\": \"CustomConv\"}):\n",
    "    net_conv=tf.nn.conv2d(images,filter_conv,strides=[1,1,1,1],padding=\"SAME\")\n",
    "\n",
    "net_pool= forward_pooling_layer(net_conv)\n",
    "\n",
    "net_act=activation(net_pool)\n",
    "\n",
    "net_flatten,new_size=flatten_forward(net_act)\n",
    "\n",
    "#full-connect\n",
    "no_of_classes=10\n",
    "\n",
    "filter_fc=tf.Variable(rng.randn(new_size,no_of_classes),dtype=tf.float32) #constant\n",
    "\n",
    "net_fc=fc_forward(net_flatten,filter_fc)\n",
    "\n",
    "output=net_fc\n",
    "\n",
    "e= net_fc-true_labels #required?\n",
    "\n",
    "#compute loss\n",
    "cost = tf.reduce_sum(tf.pow(e, 2))/2\n",
    "cross_entropy=tf.nn.softmax_cross_entropy_with_logits(logits=\n",
    "                                  output,labels=true_labels)"
   ]
  },
  {
   "cell_type": "code",
   "execution_count": 7,
   "metadata": {
    "collapsed": true
   },
   "outputs": [],
   "source": [
    "filter_conv_bp=tf.Variable(rng.randn(5,5,3,32), dtype = tf.float32)\n",
    "net_conv_bp = forward_conv(filter_conv_bp,images)\n",
    "net_pool_bp = forward_pooling_layer(net_conv_bp)\n",
    "net_act_bp=activation(net_pool_bp)\n",
    "net_flatten_bp,new_size_bp=flatten_forward(net_act_bp)\n",
    "\n",
    "#full-connect\n",
    "no_of_classes=10\n",
    "filter_fc_bp=tf.Variable(rng.randn(new_size,no_of_classes),dtype=tf.float32)\n",
    "net_fc_bp=fc_forward(net_flatten_bp,filter_fc_bp)\n",
    "\n",
    "output_bp=net_fc_bp\n",
    "e= net_fc-true_labels \n",
    "\n",
    "#compute loss\n",
    "cost_bp = tf.reduce_sum(tf.pow(e, 2))/2\n",
    "cross_entropy_bp=tf.nn.softmax_cross_entropy_with_logits(logits=\n",
    "                                  output_bp,labels=true_labels)"
   ]
  },
  {
   "cell_type": "code",
   "execution_count": 8,
   "metadata": {
    "collapsed": true
   },
   "outputs": [],
   "source": [
    "accuracy_fa=tf.reduce_mean(tf.cast(tf.equal(tf.argmax(output,1),tf.argmax(true_labels,1)),tf.float32))\n",
    "accuracy_bp=tf.reduce_mean(tf.cast(tf.equal(tf.argmax(output_bp,1),tf.argmax(true_labels,1)),tf.float32))"
   ]
  },
  {
   "cell_type": "code",
   "execution_count": 9,
   "metadata": {},
   "outputs": [
    {
     "name": "stdout",
     "output_type": "stream",
     "text": [
      "in override backprop\n"
     ]
    }
   ],
   "source": [
    "#BP gradients\n",
    "bp_grad = tf.gradients(cross_entropy_bp, images)\n",
    "\n",
    "override_grad = tf.gradients(cross_entropy, images)"
   ]
  },
  {
   "cell_type": "code",
   "execution_count": 10,
   "metadata": {},
   "outputs": [
    {
     "name": "stdout",
     "output_type": "stream",
     "text": [
      "in override backprop\n"
     ]
    }
   ],
   "source": [
    "train_op_bp = tf.train.MomentumOptimizer(learning_rate=0.0000001,momentum=0.9).minimize(cross_entropy_bp)\n",
    "train_op_fa=tf.train.MomentumOptimizer(learning_rate=0.0000001,momentum=0.9).minimize(cross_entropy)"
   ]
  },
  {
   "cell_type": "code",
   "execution_count": 11,
   "metadata": {
    "collapsed": true
   },
   "outputs": [],
   "source": [
    "a = tf.placeholder(tf.float32, shape=[batch,32,32,3], name=\"input_placeholder_a\")\n",
    "b = tf.placeholder(tf.float32, shape=[batch,32,32,3], name=\"input_placeholder_b\")\n",
    "normalize_a=tf.nn.l2_normalize(a,0)\n",
    "normalize_b=tf.nn.l2_normalize(b,0)\n",
    "cos_sim=tf.reduce_sum(tf.multiply(normalize_a,normalize_b))"
   ]
  },
  {
   "cell_type": "code",
   "execution_count": null,
   "metadata": {
    "collapsed": true,
    "scrolled": true
   },
   "outputs": [],
   "source": [
    "\n",
    "Y_hot=np.eye(10)[Y]\n",
    "store_err_bp=[]\n",
    "store_err_fa=[]\n",
    "acc_fa=[]\n",
    "acc_bp=[]\n",
    "store_align=[]\n",
    "with tf.Session() as sess:\n",
    "    sess.run(tf.global_variables_initializer())\n",
    "    for count in range(iterations):\n",
    "        batch_no=np.random.randint(0,X.shape[0],size=batch)\n",
    "    \n",
    "        inp_features=X[batch_no,:,:,:]\n",
    "        inp_features=inp_features.astype(np.float32)\n",
    "    \n",
    "        inp_labels=Y_hot[batch_no,:]\n",
    "        inp_labels=inp_labels.astype(np.float32)\n",
    "    \n",
    "        autobp_input=sess.run(bp_grad,feed_dict={images:inp_features,true_labels:inp_labels})\n",
    "        override_input=sess.run(override_grad,feed_dict={images:inp_features,true_labels:inp_labels})\n",
    "        \n",
    "        sess.run(train_op_bp,feed_dict={images:inp_features,true_labels:inp_labels})\n",
    "        sess.run(train_op_fa,feed_dict={images:inp_features,true_labels:inp_labels})\n",
    "        entropy_bp=sess.run(cross_entropy_bp,feed_dict={images:inp_features,true_labels:inp_labels})\n",
    "        store_err_bp.append(np.mean(entropy_bp))\n",
    "        entropy_fa=sess.run(cross_entropy,feed_dict={images:inp_features,true_labels:inp_labels})\n",
    "        store_err_fa.append(np.mean(entropy_fa))\n",
    "        \n",
    "        acc_fa.append(sess.run(accuracy_fa,feed_dict={images:inp_features,true_labels:inp_labels}))\n",
    "        acc_bp.append(sess.run(accuracy_bp,feed_dict={images:inp_features,true_labels:inp_labels}))\n",
    "\n",
    "        align=sess.run(cos_sim,feed_dict={a:autobp_input[0],b:override_input[0]})\n",
    "        store_align.append(align)\n",
    "        if count%100==0:\n",
    "            print(\"Iteration:\",count)\n",
    "            print(\"Alignment:\",np.linalg.norm(autobp_input[0] - override_input[0]))\n",
    "            print(\"Cosine Alignment:\",align)\n",
    "            print(\"Cost BackPropagation:\",sess.run(cost_bp,feed_dict={images:inp_features,true_labels:inp_labels}),\"\\nFeedback:\",sess.run(cost,feed_dict={images:inp_features,true_labels:inp_labels}))"
   ]
  },
  {
   "cell_type": "code",
   "execution_count": null,
   "metadata": {
    "collapsed": true
   },
   "outputs": [],
   "source": [
    "plt.plot(store_err_bp,'r',label='Back prop')\n",
    "plt.plot(store_err_fa,'b',label='Random feedback')\n",
    "plt.suptitle('Cross Entropy loss')\n",
    "plt.ylabel('Cross Entropy loss')\n",
    "plt.legend()\n",
    "plt.show()"
   ]
  },
  {
   "cell_type": "code",
   "execution_count": null,
   "metadata": {
    "collapsed": true
   },
   "outputs": [],
   "source": [
    "plt.semilogy(store_err_bp,label='Back Prop')\n",
    "plt.semilogy(store_err_fa,label='Random feedback')\n",
    "plt.title('Cross Entropy on log scale')\n",
    "plt.ylabel('Cross Entropy loss')\n",
    "plt.legend()\n",
    "plt.show()"
   ]
  },
  {
   "cell_type": "code",
   "execution_count": null,
   "metadata": {
    "collapsed": true
   },
   "outputs": [],
   "source": [
    "plt.plot(acc_bp,label='Back Prop')\n",
    "plt.plot(acc_fa,label='Random Feedback')\n",
    "plt.ylabel('Accuracy')\n",
    "plt.suptitle(\"Accuracies after 10000 iterations\")\n",
    "plt.legend()\n",
    "plt.show()"
   ]
  },
  {
   "cell_type": "code",
   "execution_count": null,
   "metadata": {
    "collapsed": true
   },
   "outputs": [],
   "source": [
    "n = 100 # the larger n is, the smoother curve will be\n",
    "b = [1.0 / n] * n\n",
    "a = 1\n",
    "yy_bp = lfilter(b,a,acc_bp)\n",
    "yy_fa = lfilter(b,a,acc_fa)\n",
    "\n",
    "plt.plot( yy_bp, linewidth=2, linestyle=\"-\", c=\"b\",label='BackProp')\n",
    "\n",
    "plt.plot( yy_fa, linewidth=2, linestyle=\"-\", c=\"g\",label='Random Feedback')\n",
    "plt.suptitle('After filtering the accuracies')\n",
    "plt.legend()\n",
    "plt.ylabel('Accuracy')\n",
    "plt.show()"
   ]
  },
  {
   "cell_type": "code",
   "execution_count": null,
   "metadata": {
    "collapsed": true
   },
   "outputs": [],
   "source": [
    "plt.plot(store_align)\n",
    "plt.suptitle(\"Cosine Similarity between autobp and overide\")\n",
    "plt.show()"
   ]
  },
  {
   "cell_type": "code",
   "execution_count": null,
   "metadata": {
    "collapsed": true
   },
   "outputs": [],
   "source": [
    "align\n"
   ]
  },
  {
   "cell_type": "code",
   "execution_count": null,
   "metadata": {
    "collapsed": true
   },
   "outputs": [],
   "source": []
  }
 ],
 "metadata": {
  "kernelspec": {
   "display_name": "Python 3",
   "language": "python",
   "name": "python3"
  },
  "language_info": {
   "codemirror_mode": {
    "name": "ipython",
    "version": 3
   },
   "file_extension": ".py",
   "mimetype": "text/x-python",
   "name": "python",
   "nbconvert_exporter": "python",
   "pygments_lexer": "ipython3",
   "version": "3.6.1"
  }
 },
 "nbformat": 4,
 "nbformat_minor": 2
}
