{
 "cells": [
  {
   "cell_type": "code",
   "execution_count": 1,
   "metadata": {},
   "outputs": [
    {
     "name": "stderr",
     "output_type": "stream",
     "text": [
      "C:\\Users\\prash\\Anaconda3\\lib\\site-packages\\h5py\\__init__.py:34: FutureWarning: Conversion of the second argument of issubdtype from `float` to `np.floating` is deprecated. In future, it will be treated as `np.float64 == np.dtype(float).type`.\n",
      "  from ._conv import register_converters as _register_converters\n"
     ]
    }
   ],
   "source": [
    "import tensorflow as tf \n",
    "import numpy as np \n",
    "import pickle\n",
    "import numpy.random as rng\n",
    "import matplotlib.pyplot as plt\n",
    "from scipy.signal import lfilter"
   ]
  },
  {
   "cell_type": "code",
   "execution_count": 2,
   "metadata": {
    "collapsed": true
   },
   "outputs": [],
   "source": [
    "fo=open('E:\\Brain Machine\\Code\\cifar-10-python\\cifar-10-batches-py\\data_batch_1','rb')\n",
    "dict=pickle.load(fo,encoding='bytes')\n",
    "X=dict[b'data']\n",
    "Y=dict[b'labels']\n",
    "fo.close\n",
    "X=X.reshape((len(X),3,32,32)).transpose(0,2,3,1).astype(\"uint8\")\n",
    "Y=np.array(Y)"
   ]
  },
  {
   "cell_type": "code",
   "execution_count": 3,
   "metadata": {
    "collapsed": true
   },
   "outputs": [],
   "source": [
    "def forward_conv(weights,input):\n",
    "    return(tf.nn.conv2d(input,weights,strides=[1,1,1,1],padding=\"SAME\"))\n",
    "\n",
    "def forward_pooling_layer(inp):\n",
    "    return(tf.nn.max_pool(value=inp,ksize=[1,2,2,1],strides=[1,1,1,1],padding=\"SAME\"))\n",
    "\n",
    "def flatten_forward(layer):\n",
    "    inp_list=layer.get_shape().as_list()\n",
    "    new_size = inp_list[-1] * inp_list[-2] * inp_list[-3]\n",
    "    return tf.reshape(layer,[-1,new_size]),new_size\n",
    "\n",
    "def fc_forward(layer,weights):\n",
    "    return tf.matmul(layer,weights)\n",
    "\n",
    "def activation(layer):\n",
    "    return tf.nn.relu(layer)"
   ]
  },
  {
   "cell_type": "code",
   "execution_count": 4,
   "metadata": {},
   "outputs": [],
   "source": [
    "filter_random = tf.Variable(rng.randn(2,2,3,3), dtype = tf.float32)\n",
    "\n",
    "@tf.RegisterGradient(\"CustomConv\")\n",
    "def _conv2d(op,grad):\n",
    "    print(\"in override backprop\")\n",
    "    input = op.inputs[0]\n",
    "    filter = op.inputs[1]\n",
    "    in_shape = tf.shape(input)\n",
    "    f_shape = tf.shape(filter)\n",
    "    g_input = tf.nn.conv2d_backprop_input(input_sizes = in_shape, filter = filter_random, out_backprop = grad, strides = [1,1,1,1], padding = \"SAME\")\n",
    "    g_filter = tf.nn.conv2d_backprop_filter(input, filter_sizes = f_shape, out_backprop = grad, strides = [1,1,1,1], padding = \"SAME\")\n",
    "    return g_input, g_filter\n",
    "\n"
   ]
  },
  {
   "cell_type": "markdown",
   "metadata": {},
   "source": [
    "# Forward pass"
   ]
  },
  {
   "cell_type": "code",
   "execution_count": 5,
   "metadata": {
    "collapsed": true
   },
   "outputs": [],
   "source": [
    "batch=100\n",
    "iterations=10000"
   ]
  },
  {
   "cell_type": "code",
   "execution_count": 6,
   "metadata": {
    "collapsed": true
   },
   "outputs": [],
   "source": [
    "filter_conv=tf.Variable(rng.randn(2,2,3,3), dtype = tf.float32) #constant\n",
    "images=tf.placeholder(tf.float32,shape=(batch,32,32,3),name='images')\n",
    "true_labels=tf.placeholder(tf.float32,shape=(batch,10),name='true_labels')\n",
    "\n",
    "#net_conv=forward_conv(filter_conv,images)\n",
    "\n",
    "g=tf.get_default_graph()\n",
    "with g.gradient_override_map({\"Conv2D\": \"CustomConv\"}):\n",
    "    net_conv=tf.nn.conv2d(images,filter_conv,strides=[1,1,1,1],padding=\"SAME\")\n",
    "\n",
    "net_pool= forward_pooling_layer(net_conv)\n",
    "\n",
    "net_act=activation(net_pool)\n",
    "\n",
    "net_flatten,new_size=flatten_forward(net_pool)\n",
    "\n",
    "#full-connect\n",
    "no_of_classes=10\n",
    "\n",
    "filter_fc=tf.Variable(rng.randn(new_size,no_of_classes),dtype=tf.float32) #constant\n",
    "\n",
    "net_fc=fc_forward(net_flatten,filter_fc)\n",
    "\n",
    "output=net_fc\n",
    "\n",
    "e= net_fc-true_labels #required?\n",
    "\n",
    "#compute loss\n",
    "cost = tf.reduce_sum(tf.pow(e, 2))/2\n",
    "cross_entropy=tf.nn.softmax_cross_entropy_with_logits_v2(logits=\n",
    "                                  output,labels=true_labels)"
   ]
  },
  {
   "cell_type": "code",
   "execution_count": 7,
   "metadata": {
    "collapsed": true
   },
   "outputs": [],
   "source": [
    "filter_conv_bp=tf.Variable(rng.randn(2,2,3,3), dtype = tf.float32)\n",
    "net_conv_bp = forward_conv(filter_conv_bp,images)\n",
    "net_pool_bp = forward_pooling_layer(net_conv_bp)\n",
    "net_act_bp=activation(net_pool_bp)\n",
    "net_flatten_bp,new_size_bp=flatten_forward(net_pool_bp)\n",
    "\n",
    "#full-connect\n",
    "no_of_classes=10\n",
    "filter_fc_bp=tf.Variable(rng.randn(new_size,no_of_classes),dtype=tf.float32)\n",
    "net_fc_bp=fc_forward(net_flatten_bp,filter_fc_bp)\n",
    "\n",
    "output_bp=net_fc_bp\n",
    "e= net_fc-true_labels \n",
    "\n",
    "#compute loss\n",
    "cost_bp = tf.reduce_sum(tf.pow(e, 2))/2\n",
    "cross_entropy_bp=tf.nn.softmax_cross_entropy_with_logits_v2(logits=\n",
    "                                  output_bp,labels=true_labels)"
   ]
  },
  {
   "cell_type": "code",
   "execution_count": 8,
   "metadata": {
    "collapsed": true
   },
   "outputs": [],
   "source": [
    "accuracy_fa=tf.reduce_mean(tf.cast(tf.equal(tf.argmax(output,1),tf.argmax(true_labels,1)),tf.float32))\n",
    "accuracy_bp=tf.reduce_mean(tf.cast(tf.equal(tf.argmax(output_bp,1),tf.argmax(true_labels,1)),tf.float32))"
   ]
  },
  {
   "cell_type": "code",
   "execution_count": 9,
   "metadata": {},
   "outputs": [
    {
     "name": "stdout",
     "output_type": "stream",
     "text": [
      "in override backprop\n"
     ]
    }
   ],
   "source": [
    "#BP gradients\n",
    "bp_grad = tf.gradients(cross_entropy_bp, images)\n",
    "\n",
    "override_grad = tf.gradients(cross_entropy, images)"
   ]
  },
  {
   "cell_type": "code",
   "execution_count": 10,
   "metadata": {},
   "outputs": [
    {
     "name": "stdout",
     "output_type": "stream",
     "text": [
      "in override backprop\n"
     ]
    }
   ],
   "source": [
    "train_op_bp = tf.train.GradientDescentOptimizer(0.000001).minimize(cross_entropy_bp)\n",
    "train_op_fa=tf.train.GradientDescentOptimizer(0.000001).minimize(cross_entropy)"
   ]
  },
  {
   "cell_type": "code",
   "execution_count": 11,
   "metadata": {
    "scrolled": true
   },
   "outputs": [
    {
     "name": "stdout",
     "output_type": "stream",
     "text": [
      "Iteration: 0\n",
      "Alignment: 3577.4707\n",
      "Iteration: 100\n",
      "Alignment: 3007.3704\n",
      "Iteration: 200\n",
      "Alignment: 2918.325\n",
      "Iteration: 300\n",
      "Alignment: 2943.413\n",
      "Iteration: 400\n",
      "Alignment: 2861.5417\n",
      "Iteration: 500\n",
      "Alignment: 2866.7556\n",
      "Iteration: 600\n",
      "Alignment: 2921.9038\n",
      "Iteration: 700\n",
      "Alignment: 2887.1968\n",
      "Iteration: 800\n",
      "Alignment: 2672.1982\n",
      "Iteration: 900\n",
      "Alignment: 2738.6716\n",
      "Iteration: 1000\n",
      "Alignment: 2858.9722\n",
      "Iteration: 1100\n",
      "Alignment: 2812.657\n",
      "Iteration: 1200\n",
      "Alignment: 2827.519\n",
      "Iteration: 1300\n",
      "Alignment: 2764.139\n",
      "Iteration: 1400\n",
      "Alignment: 2743.3567\n",
      "Iteration: 1500\n",
      "Alignment: 2907.14\n",
      "Iteration: 1600\n",
      "Alignment: 2788.3103\n",
      "Iteration: 1700\n",
      "Alignment: 2825.1685\n",
      "Iteration: 1800\n",
      "Alignment: 2863.5613\n",
      "Iteration: 1900\n",
      "Alignment: 2748.8372\n",
      "Iteration: 2000\n",
      "Alignment: 2876.6133\n",
      "Iteration: 2100\n",
      "Alignment: 2805.519\n",
      "Iteration: 2200\n",
      "Alignment: 2700.8855\n",
      "Iteration: 2300\n",
      "Alignment: 2556.7593\n",
      "Iteration: 2400\n",
      "Alignment: 2781.8442\n",
      "Iteration: 2500\n",
      "Alignment: 2783.6787\n",
      "Iteration: 2600\n",
      "Alignment: 2790.4119\n",
      "Iteration: 2700\n",
      "Alignment: 2850.461\n",
      "Iteration: 2800\n",
      "Alignment: 2721.6233\n",
      "Iteration: 2900\n",
      "Alignment: 2714.821\n",
      "Iteration: 3000\n",
      "Alignment: 2744.0486\n",
      "Iteration: 3100\n",
      "Alignment: 2756.686\n",
      "Iteration: 3200\n",
      "Alignment: 2624.3782\n",
      "Iteration: 3300\n",
      "Alignment: 2775.5754\n",
      "Iteration: 3400\n",
      "Alignment: 2782.4907\n",
      "Iteration: 3500\n",
      "Alignment: 2691.043\n",
      "Iteration: 3600\n",
      "Alignment: 2740.7683\n",
      "Iteration: 3700\n",
      "Alignment: 2684.2725\n",
      "Iteration: 3800\n",
      "Alignment: 2797.8745\n",
      "Iteration: 3900\n",
      "Alignment: 2823.187\n",
      "Iteration: 4000\n",
      "Alignment: 2733.9707\n",
      "Iteration: 4100\n",
      "Alignment: 2834.5054\n",
      "Iteration: 4200\n",
      "Alignment: 2790.4612\n",
      "Iteration: 4300\n",
      "Alignment: 2726.6755\n",
      "Iteration: 4400\n",
      "Alignment: 2540.6719\n",
      "Iteration: 4500\n",
      "Alignment: 2746.5762\n",
      "Iteration: 4600\n",
      "Alignment: 2602.2666\n",
      "Iteration: 4700\n",
      "Alignment: 2730.5303\n",
      "Iteration: 4800\n",
      "Alignment: 2672.1348\n",
      "Iteration: 4900\n",
      "Alignment: 2782.496\n",
      "Iteration: 5000\n",
      "Alignment: 2640.6157\n",
      "Iteration: 5100\n",
      "Alignment: 2833.6445\n",
      "Iteration: 5200\n",
      "Alignment: 2776.624\n",
      "Iteration: 5300\n",
      "Alignment: 2676.892\n",
      "Iteration: 5400\n",
      "Alignment: 2693.184\n",
      "Iteration: 5500\n",
      "Alignment: 2643.8062\n",
      "Iteration: 5600\n",
      "Alignment: 2656.5684\n",
      "Iteration: 5700\n",
      "Alignment: 2707.9854\n",
      "Iteration: 5800\n",
      "Alignment: 2652.1123\n",
      "Iteration: 5900\n",
      "Alignment: 2725.9143\n",
      "Iteration: 6000\n",
      "Alignment: 2513.0674\n",
      "Iteration: 6100\n",
      "Alignment: 2641.3496\n",
      "Iteration: 6200\n",
      "Alignment: 2489.1672\n",
      "Iteration: 6300\n",
      "Alignment: 2709.0334\n",
      "Iteration: 6400\n",
      "Alignment: 2726.7407\n",
      "Iteration: 6500\n",
      "Alignment: 2538.9368\n",
      "Iteration: 6600\n",
      "Alignment: 2770.2039\n",
      "Iteration: 6700\n",
      "Alignment: 2605.9912\n",
      "Iteration: 6800\n",
      "Alignment: 2773.7153\n",
      "Iteration: 6900\n",
      "Alignment: 2628.5269\n",
      "Iteration: 7000\n",
      "Alignment: 2548.015\n",
      "Iteration: 7100\n",
      "Alignment: 2596.4724\n",
      "Iteration: 7200\n",
      "Alignment: 2655.076\n",
      "Iteration: 7300\n",
      "Alignment: 2626.7898\n",
      "Iteration: 7400\n",
      "Alignment: 2598.051\n",
      "Iteration: 7500\n",
      "Alignment: 2639.5898\n",
      "Iteration: 7600\n",
      "Alignment: 2681.9941\n",
      "Iteration: 7700\n",
      "Alignment: 2740.5542\n",
      "Iteration: 7800\n",
      "Alignment: 2543.691\n",
      "Iteration: 7900\n",
      "Alignment: 2688.5762\n",
      "Iteration: 8000\n",
      "Alignment: 2619.7993\n",
      "Iteration: 8100\n",
      "Alignment: 2703.9639\n",
      "Iteration: 8200\n",
      "Alignment: 2744.8647\n",
      "Iteration: 8300\n",
      "Alignment: 2611.619\n",
      "Iteration: 8400\n",
      "Alignment: 2692.854\n",
      "Iteration: 8500\n",
      "Alignment: 2624.4702\n",
      "Iteration: 8600\n",
      "Alignment: 2727.1565\n",
      "Iteration: 8700\n",
      "Alignment: 2603.7676\n",
      "Iteration: 8800\n",
      "Alignment: 2631.0227\n",
      "Iteration: 8900\n",
      "Alignment: 2710.7258\n",
      "Iteration: 9000\n",
      "Alignment: 2627.3523\n",
      "Iteration: 9100\n",
      "Alignment: 2657.2732\n",
      "Iteration: 9200\n",
      "Alignment: 2673.588\n",
      "Iteration: 9300\n",
      "Alignment: 2742.0005\n",
      "Iteration: 9400\n",
      "Alignment: 2554.455\n",
      "Iteration: 9500\n",
      "Alignment: 2591.2495\n",
      "Iteration: 9600\n",
      "Alignment: 2737.615\n",
      "Iteration: 9700\n",
      "Alignment: 2600.2234\n",
      "Iteration: 9800\n",
      "Alignment: 2621.9668\n",
      "Iteration: 9900\n",
      "Alignment: 2571.354\n"
     ]
    }
   ],
   "source": [
    "Y_hot=np.eye(10)[Y]\n",
    "store_err_bp=[]\n",
    "store_err_fa=[]\n",
    "acc_fa=[]\n",
    "acc_bp=[]\n",
    "with tf.Session() as sess:\n",
    "    sess.run(tf.global_variables_initializer())\n",
    "    for count in range(iterations):\n",
    "        batch_no=np.random.randint(0,X.shape[0],size=batch)\n",
    "    \n",
    "        inp_features=X[batch_no,:,:,:]\n",
    "        inp_features=inp_features.astype(np.float32)\n",
    "    \n",
    "        inp_labels=Y_hot[batch_no,:]\n",
    "        inp_labels=inp_labels.astype(np.float32)\n",
    "    \n",
    "        autobp_input=sess.run(bp_grad,feed_dict={images:inp_features,true_labels:inp_labels})\n",
    "        override_input=sess.run(override_grad,feed_dict={images:inp_features,true_labels:inp_labels})\n",
    "        \n",
    "        sess.run(train_op_bp,feed_dict={images:inp_features,true_labels:inp_labels})\n",
    "        sess.run(train_op_fa,feed_dict={images:inp_features,true_labels:inp_labels})\n",
    "        entropy_bp=sess.run(cross_entropy_bp,feed_dict={images:inp_features,true_labels:inp_labels})\n",
    "        store_err_bp.append(np.mean(entropy_bp))\n",
    "        entropy_fa=sess.run(cross_entropy,feed_dict={images:inp_features,true_labels:inp_labels})\n",
    "        store_err_fa.append(np.mean(entropy_fa))\n",
    "        \n",
    "        acc_fa.append(sess.run(accuracy_fa,feed_dict={images:inp_features,true_labels:inp_labels}))\n",
    "        acc_bp.append(sess.run(accuracy_bp,feed_dict={images:inp_features,true_labels:inp_labels}))\n",
    "\n",
    "        if count%100==0:\n",
    "            print(\"Iteration:\",count)\n",
    "            print(\"Alignment:\",np.linalg.norm(autobp_input[0] - override_input[0]))"
   ]
  },
  {
   "cell_type": "code",
   "execution_count": 13,
   "metadata": {},
   "outputs": [
    {
     "data": {
      "image/png": "[encoded data removed]",
      "text/plain": [
       "<matplotlib.figure.Figure at 0x20bbac12d68>"
      ]
     },
     "metadata": {},
     "output_type": "display_data"
    }
   ],
   "source": [
    "plt.plot(store_err_bp,'r',label='Back prop')\n",
    "plt.plot(store_err_fa,'b',label='Random feedback')\n",
    "plt.suptitle('Cross Entropy loss')\n",
    "plt.ylabel('Cross Entropy loss')\n",
    "plt.legend()\n",
    "plt.show()"
   ]
  },
  {
   "cell_type": "code",
   "execution_count": 14,
   "metadata": {},
   "outputs": [
    {
     "data": {
      "image/png": "[encoded data removed]",
      "text/plain": [
       "<matplotlib.figure.Figure at 0x20bbab20cf8>"
      ]
     },
     "metadata": {},
     "output_type": "display_data"
    }
   ],
   "source": [
    "plt.semilogy(store_err_bp,label='Back Prop')\n",
    "plt.semilogy(store_err_fa,label='Random feedback')\n",
    "plt.title('Cross Entropy on log scale')\n",
    "plt.ylabel('Cross Entropy loss')\n",
    "plt.legend()`\n",
    "plt.show()"
   ]
  },
  {
   "cell_type": "code",
   "execution_count": 15,
   "metadata": {},
   "outputs": [
    {
     "data": {
      "image/png": "[encoded data removed]",
      "text/plain": [
       "<matplotlib.figure.Figure at 0x20bbb0b05c0>"
      ]
     },
     "metadata": {},
     "output_type": "display_data"
    }
   ],
   "source": [
    "plt.plot(acc_bp,label='Back Prop')\n",
    "plt.plot(acc_fa,label='Random Feedback')\n",
    "plt.ylabel('Accuracy')\n",
    "plt.suptitle(\"Accuracies after 10000 iterations\")\n",
    "plt.legend()\n",
    "plt.show()"
   ]
  },
  {
   "cell_type": "code",
   "execution_count": 16,
   "metadata": {},
   "outputs": [
    {
     "data": {
      "image/png": "[encoded data removed]",
      "text/plain": [
       "<matplotlib.figure.Figure at 0x20bbb1a8b38>"
      ]
     },
     "metadata": {},
     "output_type": "display_data"
    }
   ],
   "source": [
    "n = 100 # the larger n is, the smoother curve will be\n",
    "b = [1.0 / n] * n\n",
    "a = 1\n",
    "yy_bp = lfilter(b,a,acc_bp)\n",
    "yy_fa = lfilter(b,a,acc_fa)\n",
    "\n",
    "plt.plot( yy_bp, linewidth=2, linestyle=\"-\", c=\"b\",label='BackProp')\n",
    "\n",
    "plt.plot( yy_fa, linewidth=2, linestyle=\"-\", c=\"g\",label='Random Feedback')\n",
    "plt.suptitle('After filtering the accuracies')\n",
    "plt.legend()\n",
    "plt.ylabel('Accuracy')\n",
    "plt.show()"
   ]
  },
  {
   "cell_type": "code",
   "execution_count": null,
   "metadata": {
    "collapsed": true
   },
   "outputs": [],
   "source": []
  }
 ],
 "metadata": {
  "kernelspec": {
   "display_name": "Python 3",
   "language": "python",
   "name": "python3"
  },
  "language_info": {
   "codemirror_mode": {
    "name": "ipython",
    "version": 3
   },
   "file_extension": ".py",
   "mimetype": "text/x-python",
   "name": "python",
   "nbconvert_exporter": "python",
   "pygments_lexer": "ipython3",
   "version": "3.6.3"
  }
 },
 "nbformat": 4,
 "nbformat_minor": 2
}
